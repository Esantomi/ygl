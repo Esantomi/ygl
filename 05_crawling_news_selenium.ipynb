{
 "cells": [
  {
   "cell_type": "code",
   "execution_count": 31,
   "metadata": {},
   "outputs": [
    {
     "name": "stdout",
     "output_type": "stream",
     "text": [
      "기사 제목 : 청와대 \"문 대통령, 내달 21일 바이든과 첫 정상회담\"\n",
      "\n",
      "기사 내용 : 문재인 대통령이 다음 달 21일 미국 백악관에서 조 바이든 미국 대통령과 한미 정상회담을 한다고 청와대가 30일 밝혔다.   정만호 국민소통수석은 이날 오전 춘추관 브리핑에서 이렇게 밝혔다. 미국 현지 시각으로 다음달 20일 워싱턴 D.C.에 도착해 이튿날인 21일 정상회담 뒤 귀국길에 오르는 일정이 예상된다. 문 대통령의 구체적인 방미 일정은 한미 간 협의를 거쳐 추후 확정될 예정이다.   바이든 대통령 취임 후 첫 한미 정상회담은 이번이 처음이다. 문 대통령 취임 후 10번째 한미 정상회담이기도 하다. 마지막 한미 정상회담은 트럼프 행정부 시절이었던 2019년 9월24일 미국 뉴욕 유엔총회 참석 계기로 성사됐었다.   젠 사키 백악관 대변인은 이날 성명에서 “조 바이든 대통령은 5월21일 문 대통령을 백악관에서 환영하길 고대한다”고 말했다.   이희경 기자 hjhk38@segye.comⓒ 세상을 보는 눈, 세계일보\n",
      "\n",
      "1번째 이미지 : https://imgnews.pstatic.net/image/022/2021/04/30/20210430504747_20210430095803191.jpg?type=w647\n"
     ]
    }
   ],
   "source": [
    "# Selenium 기본 코드 시작\n",
    "\n",
    "from selenium import webdriver\n",
    "\n",
    "driver = webdriver.Chrome(\"./crawling_practice/chromedriver\")\n",
    "# ipynb 파일과 chromedriver.exe 파일이 같은 폴더에 있으면 상대 경로(./)로 경로 설정 가능\n",
    "driver.get(\"https://news.naver.com/main/read.nhn?mode=LSD&mid=shm&sid1=100&oid=022&aid=0003576655\")\n",
    "\n",
    "# Selenium 기본 코드 끝\n",
    "\n",
    "\n",
    "# BeautifulSoup 기본 코드 시작\n",
    "\n",
    "from bs4 import BeautifulSoup\n",
    "\n",
    "# driver.page_source # 홈페이지 내용\n",
    "html = driver.page_source\n",
    "html_parsing = BeautifulSoup(html, \"lxml\")\n",
    "# print(html_parsing)\n",
    "\n",
    "# BeautifulSoup 기본 코드 끝\n",
    "\n",
    "\n",
    "# 기사의 제목\n",
    "title = html_parsing.find(\"h3\", {\"class\":\"tts_head\"})\n",
    "print(\"기사 제목 : \" + title.text)\n",
    "print()\n",
    "\n",
    "# 기사의 내용\n",
    "content = html_parsing.find(\"div\", {\"class\":\"_article_body_contents\"})\n",
    "print(\"기사 내용 : \" + content.text.strip())\n",
    "print()\n",
    "\n",
    "# 기사의 내용 (이미지)\n",
    "image_all = html_parsing.find_all(\"span\", {\"class\":\"end_photo_org\"})\n",
    "# print(image_all)\n",
    "\n",
    "idx = 1\n",
    "for image in image_all:\n",
    "    image_result = image.find(\"img\")[\"src\"]\n",
    "    # print(image_result)\n",
    "    print(str(idx) + \"번째 이미지 : \" + image_result)\n",
    "    idx = idx + 1\n",
    "    \n",
    "driver.close()"
   ]
  }
 ],
 "metadata": {
  "kernelspec": {
   "display_name": "Python 3",
   "language": "python",
   "name": "python3"
  },
  "language_info": {
   "codemirror_mode": {
    "name": "ipython",
    "version": 3
   },
   "file_extension": ".py",
   "mimetype": "text/x-python",
   "name": "python",
   "nbconvert_exporter": "python",
   "pygments_lexer": "ipython3",
   "version": "3.8.5"
  }
 },
 "nbformat": 4,
 "nbformat_minor": 4
}
