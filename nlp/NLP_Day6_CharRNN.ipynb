{
  "nbformat": 4,
  "nbformat_minor": 0,
  "metadata": {
    "colab": {
      "name": "NLP_Day6_CharRNN.ipynb",
      "provenance": [],
      "collapsed_sections": [],
      "authorship_tag": "ABX9TyPyvSOFfmDFNX0f5ePGkmnx",
      "include_colab_link": true
    },
    "kernelspec": {
      "name": "python3",
      "display_name": "Python 3"
    },
    "language_info": {
      "name": "python"
    },
    "accelerator": "GPU"
  },
  "cells": [
    {
      "cell_type": "markdown",
      "metadata": {
        "id": "view-in-github",
        "colab_type": "text"
      },
      "source": [
        "<a href=\"https://colab.research.google.com/github/Esantomi/NLP/blob/master/NLP_Day6_CharRNN.ipynb\" target=\"_parent\"><img src=\"https://colab.research.google.com/assets/colab-badge.svg\" alt=\"Open In Colab\"/></a>"
      ]
    },
    {
      "cell_type": "markdown",
      "metadata": {
        "id": "q697wUhYZmcT"
      },
      "source": [
        "# 글자 단위 RNN 언어 모델"
      ]
    },
    {
      "cell_type": "markdown",
      "metadata": {
        "id": "0qdvyDDeZpQJ"
      },
      "source": [
        "'경마장에 말이 달리고 있다'  \n",
        "경마장에  \n",
        "말이  \n",
        "달리고  \n",
        "있다  \n",
        "  \n",
        "글자 단위  \n",
        "경  \n",
        "마  \n",
        "장  \n",
        "에  \n",
        "말  \n",
        "이  \n",
        "달  \n",
        "리  \n",
        "고  \n",
        "있  \n",
        "다"
      ]
    },
    {
      "cell_type": "code",
      "metadata": {
        "id": "b1dqIbQhZe-6"
      },
      "source": [
        "import numpy as np\n",
        "import urllib.request\n",
        "from tensorflow.keras.utils import to_categorical"
      ],
      "execution_count": null,
      "outputs": []
    },
    {
      "cell_type": "code",
      "metadata": {
        "colab": {
          "base_uri": "https://localhost:8080/"
        },
        "id": "IUu73Y64Z3LF",
        "outputId": "5bf87081-a94b-4cea-c88c-374a82d4c411"
      },
      "source": [
        "urllib.request.urlretrieve(\"http://www.gutenberg.org/files/11/11-0.txt\", filename=\"11-0.txt\")"
      ],
      "execution_count": null,
      "outputs": [
        {
          "output_type": "execute_result",
          "data": {
            "text/plain": [
              "('11-0.txt', <http.client.HTTPMessage at 0x7f922e82cad0>)"
            ]
          },
          "metadata": {
            "tags": []
          },
          "execution_count": 5
        }
      ]
    },
    {
      "cell_type": "code",
      "metadata": {
        "id": "qI33FPReZ55E"
      },
      "source": [
        "f = open('11-0.txt', 'rb')\n",
        "lines = []\n",
        "for line in f:\n",
        "  line = line.strip() # strip을 통해 \\r, \\n을 제거\n",
        "  line = line.lower() # 소문자화 \n",
        "  line = line.decode('ascii', 'ignore') # \\we2\\x80\\x99등과 같은 바이트 열 제거\n",
        "  if len(line)>0:\n",
        "    lines.append(line)\n",
        "f.close()"
      ],
      "execution_count": null,
      "outputs": []
    },
    {
      "cell_type": "code",
      "metadata": {
        "colab": {
          "base_uri": "https://localhost:8080/"
        },
        "id": "yK7CFAIqZ69K",
        "outputId": "a148fefb-9d17-4d32-e8a3-45353a5ab3a0"
      },
      "source": [
        "lines[:5] "
      ],
      "execution_count": null,
      "outputs": [
        {
          "output_type": "execute_result",
          "data": {
            "text/plain": [
              "['the project gutenberg ebook of alices adventures in wonderland, by lewis carroll',\n",
              " 'this ebook is for the use of anyone anywhere in the united states and',\n",
              " 'most other parts of the world at no cost and with almost no restrictions',\n",
              " 'whatsoever. you may copy it, give it away or re-use it under the terms',\n",
              " 'of the project gutenberg license included with this ebook or online at']"
            ]
          },
          "metadata": {
            "tags": []
          },
          "execution_count": 7
        }
      ]
    },
    {
      "cell_type": "code",
      "metadata": {
        "colab": {
          "base_uri": "https://localhost:8080/"
        },
        "id": "k76fZ2rPZ8F5",
        "outputId": "bdb755a1-bde1-48b1-b594-5384aa103596"
      },
      "source": [
        "text = ' '.join(lines)\n",
        "print('문자열의 길이 또는 총 글자의 갯수 : %d' %len(text))"
      ],
      "execution_count": null,
      "outputs": [
        {
          "output_type": "stream",
          "text": [
            "문자열의 길이 또는 총 글자의 갯수 : 159484\n"
          ],
          "name": "stdout"
        }
      ]
    },
    {
      "cell_type": "code",
      "metadata": {
        "colab": {
          "base_uri": "https://localhost:8080/"
        },
        "id": "a0liSXBHZ9dz",
        "outputId": "a483458a-838f-44e3-cd66-9484161e1286"
      },
      "source": [
        "print(text[:10])"
      ],
      "execution_count": null,
      "outputs": [
        {
          "output_type": "stream",
          "text": [
            "the projec\n"
          ],
          "name": "stdout"
        }
      ]
    },
    {
      "cell_type": "code",
      "metadata": {
        "colab": {
          "base_uri": "https://localhost:8080/"
        },
        "id": "Krm4BmR4Z-ZE",
        "outputId": "64e38e26-3963-4c08-f9c8-44e97534c43d"
      },
      "source": [
        "# 글자 집합을 만들어 보자\n",
        "char_vocab = sorted(list(set(text)))\n",
        "vocab_size = len(char_vocab)\n",
        "print('글자 집합의 크기 : {}'.format(vocab_size))"
      ],
      "execution_count": null,
      "outputs": [
        {
          "output_type": "stream",
          "text": [
            "글자 집합의 크기 : 56\n"
          ],
          "name": "stdout"
        }
      ]
    },
    {
      "cell_type": "code",
      "metadata": {
        "colab": {
          "base_uri": "https://localhost:8080/"
        },
        "id": "-46OYErOZ_sd",
        "outputId": "c2929b05-2505-4f30-8149-cdc407af8b5d"
      },
      "source": [
        "print(char_vocab)"
      ],
      "execution_count": null,
      "outputs": [
        {
          "output_type": "stream",
          "text": [
            "[' ', '!', '\"', '#', '$', '%', \"'\", '(', ')', '*', ',', '-', '.', '/', '0', '1', '2', '3', '4', '5', '6', '7', '8', '9', ':', ';', '?', '[', ']', '_', 'a', 'b', 'c', 'd', 'e', 'f', 'g', 'h', 'i', 'j', 'k', 'l', 'm', 'n', 'o', 'p', 'q', 'r', 's', 't', 'u', 'v', 'w', 'x', 'y', 'z']\n"
          ],
          "name": "stdout"
        }
      ]
    },
    {
      "cell_type": "code",
      "metadata": {
        "colab": {
          "base_uri": "https://localhost:8080/"
        },
        "id": "3BsyI330aBUj",
        "outputId": "0ffa5cc6-da8d-47df-fe42-54f014cd9c57"
      },
      "source": [
        "# 글자 집합에 인덱스를 부여하고 전부 출력하기\n",
        "char_to_index = dict((c, i) for i, c in enumerate(char_vocab))\n",
        "print(char_to_index)"
      ],
      "execution_count": null,
      "outputs": [
        {
          "output_type": "stream",
          "text": [
            "{' ': 0, '!': 1, '\"': 2, '#': 3, '$': 4, '%': 5, \"'\": 6, '(': 7, ')': 8, '*': 9, ',': 10, '-': 11, '.': 12, '/': 13, '0': 14, '1': 15, '2': 16, '3': 17, '4': 18, '5': 19, '6': 20, '7': 21, '8': 22, '9': 23, ':': 24, ';': 25, '?': 26, '[': 27, ']': 28, '_': 29, 'a': 30, 'b': 31, 'c': 32, 'd': 33, 'e': 34, 'f': 35, 'g': 36, 'h': 37, 'i': 38, 'j': 39, 'k': 40, 'l': 41, 'm': 42, 'n': 43, 'o': 44, 'p': 45, 'q': 46, 'r': 47, 's': 48, 't': 49, 'u': 50, 'v': 51, 'w': 52, 'x': 53, 'y': 54, 'z': 55}\n"
          ],
          "name": "stdout"
        }
      ]
    },
    {
      "cell_type": "code",
      "metadata": {
        "id": "YKcmDGkucE7n"
      },
      "source": [
        "# 인덱스로부터 글자를 리턴하기\n",
        "index_to_char = {}\n",
        "for key, value in char_to_index.items():\n",
        "  index_to_char[value] = key"
      ],
      "execution_count": null,
      "outputs": []
    },
    {
      "cell_type": "code",
      "metadata": {
        "colab": {
          "base_uri": "https://localhost:8080/"
        },
        "id": "U4jsrcOtcGbG",
        "outputId": "7fb2ba43-cf27-4a7d-d1bb-378267921773"
      },
      "source": [
        "print(index_to_char)"
      ],
      "execution_count": null,
      "outputs": [
        {
          "output_type": "stream",
          "text": [
            "{0: ' ', 1: '!', 2: '\"', 3: '#', 4: '$', 5: '%', 6: \"'\", 7: '(', 8: ')', 9: '*', 10: ',', 11: '-', 12: '.', 13: '/', 14: '0', 15: '1', 16: '2', 17: '3', 18: '4', 19: '5', 20: '6', 21: '7', 22: '8', 23: '9', 24: ':', 25: ';', 26: '?', 27: '[', 28: ']', 29: '_', 30: 'a', 31: 'b', 32: 'c', 33: 'd', 34: 'e', 35: 'f', 36: 'g', 37: 'h', 38: 'i', 39: 'j', 40: 'k', 41: 'l', 42: 'm', 43: 'n', 44: 'o', 45: 'p', 46: 'q', 47: 'r', 48: 's', 49: 't', 50: 'u', 51: 'v', 52: 'w', 53: 'x', 54: 'y', 55: 'z'}\n"
          ],
          "name": "stdout"
        }
      ]
    },
    {
      "cell_type": "code",
      "metadata": {
        "id": "nvOtjGGucHjW"
      },
      "source": [
        "# 훈련데이터를 구성\n",
        "# apple \n",
        "# sample의 길이 4\n",
        "\n",
        "# example) 샘플의 길이가 4라면 4개의 입력 글자 시퀀스로부터 4개의 출력 글자 시퀀스 예측. 즉 RNN의 time step은 4번\n",
        "# appl -> pple\n",
        "# appl (입력시퀀스, train_x), pple(예측해야하는 시퀀스, train_y)"
      ],
      "execution_count": null,
      "outputs": []
    },
    {
      "cell_type": "code",
      "metadata": {
        "colab": {
          "base_uri": "https://localhost:8080/"
        },
        "id": "5Xay2R7VcJgj",
        "outputId": "c9190400-e877-471c-d1d8-88fb16d14cbb"
      },
      "source": [
        "# 15만 8천의 길이를 가진 text 문자열로부터 다수의 문장 샘플들로 분리\n",
        "# 분리하는 방법은 문장 샘플의 길이를 정하고, 해당 길이만큼 문자열 전부를 전부 등분하는 것!!\n",
        "\n",
        "seq_length = 60\n",
        "n_samples = int(np.floor((len(text)-1)/seq_length))  # 문자열을 60등분한다 ---> 총 샘플의 수\n",
        "\n",
        "print('문장 샘플의 수 : {}'.format(n_samples))"
      ],
      "execution_count": null,
      "outputs": [
        {
          "output_type": "stream",
          "text": [
            "문장 샘플의 수 : 2658\n"
          ],
          "name": "stdout"
        }
      ]
    },
    {
      "cell_type": "code",
      "metadata": {
        "id": "353hoVhVcOAZ"
      },
      "source": [
        "train_x = []\n",
        "train_y = []\n",
        "\n",
        "for i in range(n_samples): # 2658번 수행\n",
        "  x_sample = text[i * seq_length: (i+1)*seq_length] # 문장 샘플을 1개씩 가져온다.\n",
        "  x_encoded = [char_to_index[c] for c in x_sample] # 하나의 문장 샘플에 대해서 정수 인코딩\n",
        "  train_x.append(x_encoded)\n",
        "\n",
        "  y_sample = text[i*seq_length + 1: (i+1) *seq_length + 1] # 오른쪽으로 1칸 쉬프트한다.\n",
        "  y_encoded = [char_to_index[c] for c in y_sample]\n",
        "  train_y.append(y_encoded)"
      ],
      "execution_count": null,
      "outputs": []
    },
    {
      "cell_type": "code",
      "metadata": {
        "colab": {
          "base_uri": "https://localhost:8080/"
        },
        "id": "CIAfoX1zcStJ",
        "outputId": "0e375eb1-5381-49e0-dee3-c1bb2fea711e"
      },
      "source": [
        "print(train_x[0])"
      ],
      "execution_count": null,
      "outputs": [
        {
          "output_type": "stream",
          "text": [
            "[49, 37, 34, 0, 45, 47, 44, 39, 34, 32, 49, 0, 36, 50, 49, 34, 43, 31, 34, 47, 36, 0, 34, 31, 44, 44, 40, 0, 44, 35, 0, 30, 41, 38, 32, 34, 48, 0, 30, 33, 51, 34, 43, 49, 50, 47, 34, 48, 0, 38, 43, 0, 52, 44, 43, 33, 34, 47, 41, 30]\n"
          ],
          "name": "stdout"
        }
      ]
    },
    {
      "cell_type": "code",
      "metadata": {
        "colab": {
          "base_uri": "https://localhost:8080/"
        },
        "id": "BgwoigKMcUDT",
        "outputId": "3bedbc3b-2b91-412b-dcd9-69aa22f87eae"
      },
      "source": [
        "print(train_y[0])"
      ],
      "execution_count": null,
      "outputs": [
        {
          "output_type": "stream",
          "text": [
            "[37, 34, 0, 45, 47, 44, 39, 34, 32, 49, 0, 36, 50, 49, 34, 43, 31, 34, 47, 36, 0, 34, 31, 44, 44, 40, 0, 44, 35, 0, 30, 41, 38, 32, 34, 48, 0, 30, 33, 51, 34, 43, 49, 50, 47, 34, 48, 0, 38, 43, 0, 52, 44, 43, 33, 34, 47, 41, 30, 43]\n"
          ],
          "name": "stdout"
        }
      ]
    },
    {
      "cell_type": "code",
      "metadata": {
        "colab": {
          "base_uri": "https://localhost:8080/"
        },
        "id": "zHa4jBdvcU9-",
        "outputId": "7672bac1-9deb-434e-ece7-ab6c289430f5"
      },
      "source": [
        "print(train_x[1])"
      ],
      "execution_count": null,
      "outputs": [
        {
          "output_type": "stream",
          "text": [
            "[43, 33, 10, 0, 31, 54, 0, 41, 34, 52, 38, 48, 0, 32, 30, 47, 47, 44, 41, 41, 0, 49, 37, 38, 48, 0, 34, 31, 44, 44, 40, 0, 38, 48, 0, 35, 44, 47, 0, 49, 37, 34, 0, 50, 48, 34, 0, 44, 35, 0, 30, 43, 54, 44, 43, 34, 0, 30, 43, 54]\n"
          ],
          "name": "stdout"
        }
      ]
    },
    {
      "cell_type": "code",
      "metadata": {
        "colab": {
          "base_uri": "https://localhost:8080/"
        },
        "id": "_JW-1EKwcWA_",
        "outputId": "093ba3dc-242b-4632-f45c-236390fd60fe"
      },
      "source": [
        "print(train_y[1])"
      ],
      "execution_count": null,
      "outputs": [
        {
          "output_type": "stream",
          "text": [
            "[33, 10, 0, 31, 54, 0, 41, 34, 52, 38, 48, 0, 32, 30, 47, 47, 44, 41, 41, 0, 49, 37, 38, 48, 0, 34, 31, 44, 44, 40, 0, 38, 48, 0, 35, 44, 47, 0, 49, 37, 34, 0, 50, 48, 34, 0, 44, 35, 0, 30, 43, 54, 44, 43, 34, 0, 30, 43, 54, 52]\n"
          ],
          "name": "stdout"
        }
      ]
    },
    {
      "cell_type": "code",
      "metadata": {
        "id": "uw_t7R_ccYSA"
      },
      "source": [
        "# x와 y에 대해 원-핫 인코딩 수행. 입력시퀀스에 대해 워드 임베딩 하지 않습니다 -> embedding layer사용 X\n",
        "train_x = to_categorical(train_x)\n",
        "train_y = to_categorical(train_y)"
      ],
      "execution_count": null,
      "outputs": []
    },
    {
      "cell_type": "code",
      "metadata": {
        "colab": {
          "base_uri": "https://localhost:8080/"
        },
        "id": "zIYFAq-Tjm_i",
        "outputId": "94474778-302b-4cf7-f943-5b9d9423907c"
      },
      "source": [
        "print('train_x의 크기 (shape) : {}'.format(train_x.shape))\n",
        "print('train_y의 크기 (shape) : {}'.format(train_y.shape))"
      ],
      "execution_count": null,
      "outputs": [
        {
          "output_type": "stream",
          "text": [
            "train_x의 크기 (shape) : (2658, 60, 56)\n",
            "train_y의 크기 (shape) : (2658, 60, 56)\n"
          ],
          "name": "stdout"
        }
      ]
    },
    {
      "cell_type": "markdown",
      "metadata": {
        "id": "MNG5WXi0jp7U"
      },
      "source": [
        "- 샘플의 수가 2658, 입력시퀀스의 길이(input_length) 60, 각 벡터의 차원(input_dim) 56 의미  \n",
        "- 원-핫 벡터의 차원은 글자 집합의 크기인 56"
      ]
    },
    {
      "cell_type": "markdown",
      "metadata": {
        "id": "4F38lcsDjt_8"
      },
      "source": [
        "![](https://wikidocs.net/images/page/22886/rnn_image6between7.PNG)"
      ]
    },
    {
      "cell_type": "markdown",
      "metadata": {
        "id": "mNseORZLjx0L"
      },
      "source": [
        "## 모델 설계하기"
      ]
    },
    {
      "cell_type": "code",
      "metadata": {
        "id": "9Db4gz6Djn6G"
      },
      "source": [
        "from tensorflow.keras.models import Sequential\n",
        "from tensorflow.keras.layers import Dense, LSTM, TimeDistributed"
      ],
      "execution_count": null,
      "outputs": []
    },
    {
      "cell_type": "code",
      "metadata": {
        "id": "r37uxvS8jz3y"
      },
      "source": [
        "model = Sequential()\n",
        "model.add(LSTM(256, input_shape=(None, train_x.shape[2]), return_sequences=True))  # None은 어떤 크기든 무관 (크기 미지정)\n",
        "model.add(LSTM(256, return_sequences=True))  # 256은 임의 값 (128, 256, 512 ...)\n",
        "model.add(TimeDistributed(Dense(vocab_size, activation='softmax')))"
      ],
      "execution_count": null,
      "outputs": []
    },
    {
      "cell_type": "code",
      "metadata": {
        "colab": {
          "base_uri": "https://localhost:8080/"
        },
        "id": "6S0zo3LSj1Wd",
        "outputId": "ae852294-2260-4e5f-ba18-eb4f32926920"
      },
      "source": [
        "model.compile(loss='categorical_crossentropy', optimizer='adam', metrics = ['accuracy'])\n",
        "model.fit(train_x, train_y, epochs=80, verbose=1)"
      ],
      "execution_count": null,
      "outputs": [
        {
          "output_type": "stream",
          "text": [
            "Epoch 1/80\n",
            "84/84 [==============================] - 9s 11ms/step - loss: 3.0730 - accuracy: 0.1811\n",
            "Epoch 2/80\n",
            "84/84 [==============================] - 1s 10ms/step - loss: 2.7692 - accuracy: 0.2379\n",
            "Epoch 3/80\n",
            "84/84 [==============================] - 1s 10ms/step - loss: 2.3862 - accuracy: 0.3308\n",
            "Epoch 4/80\n",
            "84/84 [==============================] - 1s 10ms/step - loss: 2.2341 - accuracy: 0.3668\n",
            "Epoch 5/80\n",
            "84/84 [==============================] - 1s 10ms/step - loss: 2.1242 - accuracy: 0.3931\n",
            "Epoch 6/80\n",
            "84/84 [==============================] - 1s 10ms/step - loss: 2.0373 - accuracy: 0.4144\n",
            "Epoch 7/80\n",
            "84/84 [==============================] - 1s 10ms/step - loss: 1.9661 - accuracy: 0.4335\n",
            "Epoch 8/80\n",
            "84/84 [==============================] - 1s 10ms/step - loss: 1.9022 - accuracy: 0.4513\n",
            "Epoch 9/80\n",
            "84/84 [==============================] - 1s 10ms/step - loss: 1.8440 - accuracy: 0.4677\n",
            "Epoch 10/80\n",
            "84/84 [==============================] - 1s 10ms/step - loss: 1.7926 - accuracy: 0.4815\n",
            "Epoch 11/80\n",
            "84/84 [==============================] - 1s 10ms/step - loss: 1.7492 - accuracy: 0.4930\n",
            "Epoch 12/80\n",
            "84/84 [==============================] - 1s 10ms/step - loss: 1.7055 - accuracy: 0.5037\n",
            "Epoch 13/80\n",
            "84/84 [==============================] - 1s 10ms/step - loss: 1.6683 - accuracy: 0.5138\n",
            "Epoch 14/80\n",
            "84/84 [==============================] - 1s 10ms/step - loss: 1.6295 - accuracy: 0.5229\n",
            "Epoch 15/80\n",
            "84/84 [==============================] - 1s 10ms/step - loss: 1.5978 - accuracy: 0.5311\n",
            "Epoch 16/80\n",
            "84/84 [==============================] - 1s 10ms/step - loss: 1.5593 - accuracy: 0.5411\n",
            "Epoch 17/80\n",
            "84/84 [==============================] - 1s 10ms/step - loss: 1.5283 - accuracy: 0.5489\n",
            "Epoch 18/80\n",
            "84/84 [==============================] - 1s 10ms/step - loss: 1.4987 - accuracy: 0.5574\n",
            "Epoch 19/80\n",
            "84/84 [==============================] - 1s 10ms/step - loss: 1.4649 - accuracy: 0.5674\n",
            "Epoch 20/80\n",
            "84/84 [==============================] - 1s 10ms/step - loss: 1.4342 - accuracy: 0.5751\n",
            "Epoch 21/80\n",
            "84/84 [==============================] - 1s 10ms/step - loss: 1.4085 - accuracy: 0.5823\n",
            "Epoch 22/80\n",
            "84/84 [==============================] - 1s 10ms/step - loss: 1.3778 - accuracy: 0.5915\n",
            "Epoch 23/80\n",
            "84/84 [==============================] - 1s 10ms/step - loss: 1.3503 - accuracy: 0.5985\n",
            "Epoch 24/80\n",
            "84/84 [==============================] - 1s 10ms/step - loss: 1.3178 - accuracy: 0.6090\n",
            "Epoch 25/80\n",
            "84/84 [==============================] - 1s 10ms/step - loss: 1.2934 - accuracy: 0.6145\n",
            "Epoch 26/80\n",
            "84/84 [==============================] - 1s 10ms/step - loss: 1.2662 - accuracy: 0.6232\n",
            "Epoch 27/80\n",
            "84/84 [==============================] - 1s 10ms/step - loss: 1.2356 - accuracy: 0.6324\n",
            "Epoch 28/80\n",
            "84/84 [==============================] - 1s 10ms/step - loss: 1.2074 - accuracy: 0.6399\n",
            "Epoch 29/80\n",
            "84/84 [==============================] - 1s 10ms/step - loss: 1.1784 - accuracy: 0.6492\n",
            "Epoch 30/80\n",
            "84/84 [==============================] - 1s 10ms/step - loss: 1.1511 - accuracy: 0.6564\n",
            "Epoch 31/80\n",
            "84/84 [==============================] - 1s 10ms/step - loss: 1.1222 - accuracy: 0.6643\n",
            "Epoch 32/80\n",
            "84/84 [==============================] - 1s 10ms/step - loss: 1.0975 - accuracy: 0.6722\n",
            "Epoch 33/80\n",
            "84/84 [==============================] - 1s 10ms/step - loss: 1.0630 - accuracy: 0.6824\n",
            "Epoch 34/80\n",
            "84/84 [==============================] - 1s 10ms/step - loss: 1.0378 - accuracy: 0.6901\n",
            "Epoch 35/80\n",
            "84/84 [==============================] - 1s 10ms/step - loss: 1.0103 - accuracy: 0.6979\n",
            "Epoch 36/80\n",
            "84/84 [==============================] - 1s 10ms/step - loss: 0.9835 - accuracy: 0.7058\n",
            "Epoch 37/80\n",
            "84/84 [==============================] - 1s 10ms/step - loss: 0.9504 - accuracy: 0.7166\n",
            "Epoch 38/80\n",
            "84/84 [==============================] - 1s 11ms/step - loss: 0.9294 - accuracy: 0.7231\n",
            "Epoch 39/80\n",
            "84/84 [==============================] - 1s 10ms/step - loss: 0.8952 - accuracy: 0.7325\n",
            "Epoch 40/80\n",
            "84/84 [==============================] - 1s 10ms/step - loss: 0.8672 - accuracy: 0.7427\n",
            "Epoch 41/80\n",
            "84/84 [==============================] - 1s 10ms/step - loss: 0.8353 - accuracy: 0.7526\n",
            "Epoch 42/80\n",
            "84/84 [==============================] - 1s 10ms/step - loss: 0.8180 - accuracy: 0.7574\n",
            "Epoch 43/80\n",
            "84/84 [==============================] - 1s 10ms/step - loss: 0.7843 - accuracy: 0.7684\n",
            "Epoch 44/80\n",
            "84/84 [==============================] - 1s 10ms/step - loss: 0.7736 - accuracy: 0.7704\n",
            "Epoch 45/80\n",
            "84/84 [==============================] - 1s 10ms/step - loss: 0.7542 - accuracy: 0.7763\n",
            "Epoch 46/80\n",
            "84/84 [==============================] - 1s 10ms/step - loss: 0.7097 - accuracy: 0.7926\n",
            "Epoch 47/80\n",
            "84/84 [==============================] - 1s 10ms/step - loss: 0.6843 - accuracy: 0.8013\n",
            "Epoch 48/80\n",
            "84/84 [==============================] - 1s 10ms/step - loss: 0.6596 - accuracy: 0.8087\n",
            "Epoch 49/80\n",
            "84/84 [==============================] - 1s 10ms/step - loss: 0.6413 - accuracy: 0.8139\n",
            "Epoch 50/80\n",
            "84/84 [==============================] - 1s 10ms/step - loss: 0.6159 - accuracy: 0.8234\n",
            "Epoch 51/80\n",
            "84/84 [==============================] - 1s 10ms/step - loss: 0.5914 - accuracy: 0.8306\n",
            "Epoch 52/80\n",
            "84/84 [==============================] - 1s 10ms/step - loss: 0.5787 - accuracy: 0.8332\n",
            "Epoch 53/80\n",
            "84/84 [==============================] - 1s 10ms/step - loss: 0.5505 - accuracy: 0.8432\n",
            "Epoch 54/80\n",
            "84/84 [==============================] - 1s 10ms/step - loss: 0.5394 - accuracy: 0.8457\n",
            "Epoch 55/80\n",
            "84/84 [==============================] - 1s 10ms/step - loss: 0.5119 - accuracy: 0.8563\n",
            "Epoch 56/80\n",
            "84/84 [==============================] - 1s 10ms/step - loss: 0.4880 - accuracy: 0.8633\n",
            "Epoch 57/80\n",
            "84/84 [==============================] - 1s 10ms/step - loss: 0.4686 - accuracy: 0.8707\n",
            "Epoch 58/80\n",
            "84/84 [==============================] - 1s 10ms/step - loss: 0.4525 - accuracy: 0.8752\n",
            "Epoch 59/80\n",
            "84/84 [==============================] - 1s 10ms/step - loss: 0.4388 - accuracy: 0.8797\n",
            "Epoch 60/80\n",
            "84/84 [==============================] - 1s 10ms/step - loss: 0.4271 - accuracy: 0.8818\n",
            "Epoch 61/80\n",
            "84/84 [==============================] - 1s 10ms/step - loss: 0.4076 - accuracy: 0.8888\n",
            "Epoch 62/80\n",
            "84/84 [==============================] - 1s 10ms/step - loss: 0.3784 - accuracy: 0.9004\n",
            "Epoch 63/80\n",
            "84/84 [==============================] - 1s 10ms/step - loss: 0.3684 - accuracy: 0.9026\n",
            "Epoch 64/80\n",
            "84/84 [==============================] - 1s 10ms/step - loss: 0.3492 - accuracy: 0.9093\n",
            "Epoch 65/80\n",
            "84/84 [==============================] - 1s 10ms/step - loss: 0.3383 - accuracy: 0.9120\n",
            "Epoch 66/80\n",
            "84/84 [==============================] - 1s 10ms/step - loss: 0.3317 - accuracy: 0.9131\n",
            "Epoch 67/80\n",
            "84/84 [==============================] - 1s 10ms/step - loss: 0.3171 - accuracy: 0.9180\n",
            "Epoch 68/80\n",
            "84/84 [==============================] - 1s 10ms/step - loss: 0.3005 - accuracy: 0.9242\n",
            "Epoch 69/80\n",
            "84/84 [==============================] - 1s 10ms/step - loss: 0.3004 - accuracy: 0.9230\n",
            "Epoch 70/80\n",
            "84/84 [==============================] - 1s 10ms/step - loss: 0.2809 - accuracy: 0.9290\n",
            "Epoch 71/80\n",
            "84/84 [==============================] - 1s 10ms/step - loss: 0.2759 - accuracy: 0.9301\n",
            "Epoch 72/80\n",
            "84/84 [==============================] - 1s 10ms/step - loss: 0.2614 - accuracy: 0.9350\n",
            "Epoch 73/80\n",
            "84/84 [==============================] - 1s 10ms/step - loss: 0.2532 - accuracy: 0.9366\n",
            "Epoch 74/80\n",
            "84/84 [==============================] - 1s 10ms/step - loss: 0.2619 - accuracy: 0.9323\n",
            "Epoch 75/80\n",
            "84/84 [==============================] - 1s 10ms/step - loss: 0.2430 - accuracy: 0.9394\n",
            "Epoch 76/80\n",
            "84/84 [==============================] - 1s 10ms/step - loss: 0.2303 - accuracy: 0.9433\n",
            "Epoch 77/80\n",
            "84/84 [==============================] - 1s 10ms/step - loss: 0.2075 - accuracy: 0.9512\n",
            "Epoch 78/80\n",
            "84/84 [==============================] - 1s 10ms/step - loss: 0.1962 - accuracy: 0.9540\n",
            "Epoch 79/80\n",
            "84/84 [==============================] - 1s 10ms/step - loss: 0.1899 - accuracy: 0.9554\n",
            "Epoch 80/80\n",
            "84/84 [==============================] - 1s 10ms/step - loss: 0.1836 - accuracy: 0.9573\n"
          ],
          "name": "stdout"
        },
        {
          "output_type": "execute_result",
          "data": {
            "text/plain": [
              "<tensorflow.python.keras.callbacks.History at 0x7f91e217a610>"
            ]
          },
          "metadata": {
            "tags": []
          },
          "execution_count": 26
        }
      ]
    },
    {
      "cell_type": "code",
      "metadata": {
        "id": "ss48n33bj2O3"
      },
      "source": [
        "def sentence_generation(model, length):\n",
        "    ix = [np.random.randint(vocab_size)] # 글자에 대한 랜덤 인덱스 생성\n",
        "    y_char = [index_to_char[ix[-1]]] # 랜덤 익덱스로부터 글자 생성\n",
        "    print(ix[-1],'번 글자',y_char[-1],'로 예측을 시작!')\n",
        "    X = np.zeros((1, length, vocab_size)) # (1, length, 55) 크기의 X 생성. 즉, LSTM의 입력 시퀀스 생성\n",
        "\n",
        "    for i in range(length):\n",
        "        X[0][i][ix[-1]] = 1 # X[0][i][예측한 글자의 인덱스] = 1, 즉, 예측 글자를 다음 입력 시퀀스에 추가\n",
        "        print(index_to_char[ix[-1]], end=\"\")\n",
        "        ix = np.argmax(model.predict(X[:, :i+1, :])[0], 1)\n",
        "        y_char.append(index_to_char[ix[-1]])\n",
        "    return ('').join(y_char)"
      ],
      "execution_count": null,
      "outputs": []
    },
    {
      "cell_type": "code",
      "metadata": {
        "colab": {
          "base_uri": "https://localhost:8080/",
          "height": 70
        },
        "id": "_xyCyqAxoAk-",
        "outputId": "ab5fc0bb-828a-407b-e699-28f452109167"
      },
      "source": [
        "sentence_generation(model, 100)"
      ],
      "execution_count": null,
      "outputs": [
        {
          "output_type": "stream",
          "text": [
            "46 번 글자 q 로 예측을 시작!\n",
            "quite strange at first; but she got used to it in a few minut i tanter i queen his proce the had-bar"
          ],
          "name": "stdout"
        },
        {
          "output_type": "execute_result",
          "data": {
            "application/vnd.google.colaboratory.intrinsic+json": {
              "type": "string"
            },
            "text/plain": [
              "'quite strange at first; but she got used to it in a few minut i tanter i queen his proce the had-bar.'"
            ]
          },
          "metadata": {
            "tags": []
          },
          "execution_count": 29
        }
      ]
    },
    {
      "cell_type": "code",
      "metadata": {
        "colab": {
          "base_uri": "https://localhost:8080/",
          "height": 53
        },
        "id": "P6yXAlRZo3v_",
        "outputId": "0e96661a-d7f5-4e03-9228-625b14199060"
      },
      "source": [
        "sentence_generation(model, 30)"
      ],
      "execution_count": null,
      "outputs": [
        {
          "output_type": "stream",
          "text": [
            "44 번 글자 o 로 예측을 시작!\n",
            "out it, added the hatter. but "
          ],
          "name": "stdout"
        },
        {
          "output_type": "execute_result",
          "data": {
            "application/vnd.google.colaboratory.intrinsic+json": {
              "type": "string"
            },
            "text/plain": [
              "'out it, added the hatter. but t'"
            ]
          },
          "metadata": {
            "tags": []
          },
          "execution_count": 30
        }
      ]
    },
    {
      "cell_type": "code",
      "metadata": {
        "colab": {
          "base_uri": "https://localhost:8080/",
          "height": 70
        },
        "id": "DfwfszW9o7Vl",
        "outputId": "f7bde24e-d1b6-4898-b2f3-80ddfc56a17c"
      },
      "source": [
        "sentence_generation(model, 100)"
      ],
      "execution_count": null,
      "outputs": [
        {
          "output_type": "stream",
          "text": [
            "42 번 글자 m 로 예측을 시작!\n",
            "may copy it, give it away or re-use it under the terms of the project gutenberg-tm license. 1.e.6. y"
          ],
          "name": "stdout"
        },
        {
          "output_type": "execute_result",
          "data": {
            "application/vnd.google.colaboratory.intrinsic+json": {
              "type": "string"
            },
            "text/plain": [
              "'may copy it, give it away or re-use it under the terms of the project gutenberg-tm license. 1.e.6. yo'"
            ]
          },
          "metadata": {
            "tags": []
          },
          "execution_count": 31
        }
      ]
    },
    {
      "cell_type": "code",
      "metadata": {
        "colab": {
          "base_uri": "https://localhost:8080/",
          "height": 53
        },
        "id": "LpLi1cUDo8oA",
        "outputId": "ec40b073-0063-421b-e73c-998ec41badd5"
      },
      "source": [
        "sentence_generation(model, 25)"
      ],
      "execution_count": null,
      "outputs": [
        {
          "output_type": "stream",
          "text": [
            "27 번 글자 [ 로 예측을 시작!\n",
            "[latem, the queens shere "
          ],
          "name": "stdout"
        },
        {
          "output_type": "execute_result",
          "data": {
            "application/vnd.google.colaboratory.intrinsic+json": {
              "type": "string"
            },
            "text/plain": [
              "'[latem, the queens shere t'"
            ]
          },
          "metadata": {
            "tags": []
          },
          "execution_count": 32
        }
      ]
    },
    {
      "cell_type": "markdown",
      "metadata": {
        "id": "8wrGIw3lugiM"
      },
      "source": [
        "## 글자 단위 RNN(Char RNN)으로 텍스트 생성하기"
      ]
    },
    {
      "cell_type": "markdown",
      "metadata": {
        "id": "zMqZvvLpuknW"
      },
      "source": [
        "- 다 대 일(many to one) 구조의 RNN을 글자 단위로 학습시키고, 텍스트 생성하기"
      ]
    },
    {
      "cell_type": "markdown",
      "metadata": {
        "id": "tjITb9jIuo1G"
      },
      "source": [
        "### 데이터에 대한 이해와 전처리"
      ]
    },
    {
      "cell_type": "code",
      "metadata": {
        "id": "hpM5qXOMo-MQ"
      },
      "source": [
        "import numpy as np\n",
        "from tensorflow.keras.utils import to_categorical"
      ],
      "execution_count": null,
      "outputs": []
    },
    {
      "cell_type": "code",
      "metadata": {
        "id": "4dP2EZZPuqMW"
      },
      "source": [
        "text='''\n",
        "I get on with life as a programmer,\n",
        "I like to contemplate beer.\n",
        "But when I start to daydream,\n",
        "My mind turns straight to wine.\n",
        "\n",
        "Do I love wine more than beer?\n",
        "\n",
        "I like to use words about beer.\n",
        "But when I stop my talking,\n",
        "My mind turns straight to wine.\n",
        "\n",
        "I hate bugs and errors.\n",
        "But I just think back to wine,\n",
        "And I'm happy once again.\n",
        "\n",
        "I like to hang out with programming and deep learning.\n",
        "But when left alone,\n",
        "My mind turns straight to wine.\n",
        "'''"
      ],
      "execution_count": null,
      "outputs": []
    },
    {
      "cell_type": "code",
      "metadata": {
        "colab": {
          "base_uri": "https://localhost:8080/"
        },
        "id": "Ygg1_QFIuril",
        "outputId": "ca8c81c1-4a61-4016-e36b-18aaff08c54b"
      },
      "source": [
        "tokens = text.split()  # '\\n 제거'\n",
        "text = ' '.join(tokens)\n",
        "\n",
        "print(text)"
      ],
      "execution_count": null,
      "outputs": [
        {
          "output_type": "stream",
          "text": [
            "I get on with life as a programmer, I like to contemplate beer. But when I start to daydream, My mind turns straight to wine. Do I love wine more than beer? I like to use words about beer. But when I stop my talking, My mind turns straight to wine. I hate bugs and errors. But I just think back to wine, And I'm happy once again. I like to hang out with programming and deep learning. But when left alone, My mind turns straight to wine.\n"
          ],
          "name": "stdout"
        }
      ]
    },
    {
      "cell_type": "code",
      "metadata": {
        "colab": {
          "base_uri": "https://localhost:8080/"
        },
        "id": "o1xJYasyusp5",
        "outputId": "49489811-844b-4dc5-de34-02af513de10e"
      },
      "source": [
        "char_vocab = sorted(list(set(text))) #중복을 제거한 글자 집합 생성\n",
        "\n",
        "print(char_vocab)"
      ],
      "execution_count": null,
      "outputs": [
        {
          "output_type": "stream",
          "text": [
            "[' ', \"'\", ',', '.', '?', 'A', 'B', 'D', 'I', 'M', 'a', 'b', 'c', 'd', 'e', 'f', 'g', 'h', 'i', 'j', 'k', 'l', 'm', 'n', 'o', 'p', 'r', 's', 't', 'u', 'v', 'w', 'y']\n"
          ],
          "name": "stdout"
        }
      ]
    },
    {
      "cell_type": "code",
      "metadata": {
        "colab": {
          "base_uri": "https://localhost:8080/"
        },
        "id": "h5W1JjDzuvYF",
        "outputId": "6bdd7608-cea9-4f1d-b92c-5a5460e9d7de"
      },
      "source": [
        "vocab_size = len(char_vocab)\n",
        "\n",
        "print('글자 집합의 크기 : {}'.format(vocab_size))"
      ],
      "execution_count": null,
      "outputs": [
        {
          "output_type": "stream",
          "text": [
            "글자 집합의 크기 : 33\n"
          ],
          "name": "stdout"
        }
      ]
    },
    {
      "cell_type": "code",
      "metadata": {
        "colab": {
          "base_uri": "https://localhost:8080/"
        },
        "id": "Ab71eVStuxZb",
        "outputId": "149c97e3-bb1b-44b3-a276-d460991255d6"
      },
      "source": [
        "char_to_index = dict((c, i) for i,c in enumerate(char_vocab)) # 글자에 고유한 정수 인덱스 부여\n",
        "\n",
        "print(char_to_index)"
      ],
      "execution_count": null,
      "outputs": [
        {
          "output_type": "stream",
          "text": [
            "{' ': 0, \"'\": 1, ',': 2, '.': 3, '?': 4, 'A': 5, 'B': 6, 'D': 7, 'I': 8, 'M': 9, 'a': 10, 'b': 11, 'c': 12, 'd': 13, 'e': 14, 'f': 15, 'g': 16, 'h': 17, 'i': 18, 'j': 19, 'k': 20, 'l': 21, 'm': 22, 'n': 23, 'o': 24, 'p': 25, 'r': 26, 's': 27, 't': 28, 'u': 29, 'v': 30, 'w': 31, 'y': 32}\n"
          ],
          "name": "stdout"
        }
      ]
    },
    {
      "cell_type": "markdown",
      "metadata": {
        "id": "Q44tJJQmvRBL"
      },
      "source": [
        "- example 5개의 입력 글자 시퀀스로부터 다음 글자 시퀀스를 예측 \n",
        "\n",
        "  - stude -> n  \n",
        "  - tuden -> t  "
      ]
    },
    {
      "cell_type": "code",
      "metadata": {
        "colab": {
          "base_uri": "https://localhost:8080/"
        },
        "id": "Lqtsen0GvPIr",
        "outputId": "94c228df-b536-4f45-b0db-be8207f5c00e"
      },
      "source": [
        "length = 11\n",
        "sequences = []\n",
        "for i in range(length, len(text)):\n",
        "  seq = text[i-length:i] # 길이 11의 문자열을 지속적으로 만듬\n",
        "  sequences.append(seq)\n",
        "\n",
        "print('총 훈련 샘플의 수: %d' %len(sequences))"
      ],
      "execution_count": null,
      "outputs": [
        {
          "output_type": "stream",
          "text": [
            "총 훈련 샘플의 수: 426\n"
          ],
          "name": "stdout"
        }
      ]
    },
    {
      "cell_type": "code",
      "metadata": {
        "colab": {
          "base_uri": "https://localhost:8080/"
        },
        "id": "IA_mdM0yvXxx",
        "outputId": "0ca36744-cb24-4465-a4f7-5121ae1677f9"
      },
      "source": [
        "print(sequences)"
      ],
      "execution_count": null,
      "outputs": [
        {
          "output_type": "stream",
          "text": [
            "['I get on wi', ' get on wit', 'get on with', 'et on with ', 't on with l', ' on with li', 'on with lif', 'n with life', ' with life ', 'with life a', 'ith life as', 'th life as ', 'h life as a', ' life as a ', 'life as a p', 'ife as a pr', 'fe as a pro', 'e as a prog', ' as a progr', 'as a progra', 's a program', ' a programm', 'a programme', ' programmer', 'programmer,', 'rogrammer, ', 'ogrammer, I', 'grammer, I ', 'rammer, I l', 'ammer, I li', 'mmer, I lik', 'mer, I like', 'er, I like ', 'r, I like t', ', I like to', ' I like to ', 'I like to c', ' like to co', 'like to con', 'ike to cont', 'ke to conte', 'e to contem', ' to contemp', 'to contempl', 'o contempla', ' contemplat', 'contemplate', 'ontemplate ', 'ntemplate b', 'template be', 'emplate bee', 'mplate beer', 'plate beer.', 'late beer. ', 'ate beer. B', 'te beer. Bu', 'e beer. But', ' beer. But ', 'beer. But w', 'eer. But wh', 'er. But whe', 'r. But when', '. But when ', ' But when I', 'But when I ', 'ut when I s', 't when I st', ' when I sta', 'when I star', 'hen I start', 'en I start ', 'n I start t', ' I start to', 'I start to ', ' start to d', 'start to da', 'tart to day', 'art to dayd', 'rt to daydr', 't to daydre', ' to daydrea', 'to daydream', 'o daydream,', ' daydream, ', 'daydream, M', 'aydream, My', 'ydream, My ', 'dream, My m', 'ream, My mi', 'eam, My min', 'am, My mind', 'm, My mind ', ', My mind t', ' My mind tu', 'My mind tur', 'y mind turn', ' mind turns', 'mind turns ', 'ind turns s', 'nd turns st', 'd turns str', ' turns stra', 'turns strai', 'urns straig', 'rns straigh', 'ns straight', 's straight ', ' straight t', 'straight to', 'traight to ', 'raight to w', 'aight to wi', 'ight to win', 'ght to wine', 'ht to wine.', 't to wine. ', ' to wine. D', 'to wine. Do', 'o wine. Do ', ' wine. Do I', 'wine. Do I ', 'ine. Do I l', 'ne. Do I lo', 'e. Do I lov', '. Do I love', ' Do I love ', 'Do I love w', 'o I love wi', ' I love win', 'I love wine', ' love wine ', 'love wine m', 'ove wine mo', 've wine mor', 'e wine more', ' wine more ', 'wine more t', 'ine more th', 'ne more tha', 'e more than', ' more than ', 'more than b', 'ore than be', 're than bee', 'e than beer', ' than beer?', 'than beer? ', 'han beer? I', 'an beer? I ', 'n beer? I l', ' beer? I li', 'beer? I lik', 'eer? I like', 'er? I like ', 'r? I like t', '? I like to', ' I like to ', 'I like to u', ' like to us', 'like to use', 'ike to use ', 'ke to use w', 'e to use wo', ' to use wor', 'to use word', 'o use words', ' use words ', 'use words a', 'se words ab', 'e words abo', ' words abou', 'words about', 'ords about ', 'rds about b', 'ds about be', 's about bee', ' about beer', 'about beer.', 'bout beer. ', 'out beer. B', 'ut beer. Bu', 't beer. But', ' beer. But ', 'beer. But w', 'eer. But wh', 'er. But whe', 'r. But when', '. But when ', ' But when I', 'But when I ', 'ut when I s', 't when I st', ' when I sto', 'when I stop', 'hen I stop ', 'en I stop m', 'n I stop my', ' I stop my ', 'I stop my t', ' stop my ta', 'stop my tal', 'top my talk', 'op my talki', 'p my talkin', ' my talking', 'my talking,', 'y talking, ', ' talking, M', 'talking, My', 'alking, My ', 'lking, My m', 'king, My mi', 'ing, My min', 'ng, My mind', 'g, My mind ', ', My mind t', ' My mind tu', 'My mind tur', 'y mind turn', ' mind turns', 'mind turns ', 'ind turns s', 'nd turns st', 'd turns str', ' turns stra', 'turns strai', 'urns straig', 'rns straigh', 'ns straight', 's straight ', ' straight t', 'straight to', 'traight to ', 'raight to w', 'aight to wi', 'ight to win', 'ght to wine', 'ht to wine.', 't to wine. ', ' to wine. I', 'to wine. I ', 'o wine. I h', ' wine. I ha', 'wine. I hat', 'ine. I hate', 'ne. I hate ', 'e. I hate b', '. I hate bu', ' I hate bug', 'I hate bugs', ' hate bugs ', 'hate bugs a', 'ate bugs an', 'te bugs and', 'e bugs and ', ' bugs and e', 'bugs and er', 'ugs and err', 'gs and erro', 's and error', ' and errors', 'and errors.', 'nd errors. ', 'd errors. B', ' errors. Bu', 'errors. But', 'rrors. But ', 'rors. But I', 'ors. But I ', 'rs. But I j', 's. But I ju', '. But I jus', ' But I just', 'But I just ', 'ut I just t', 't I just th', ' I just thi', 'I just thin', ' just think', 'just think ', 'ust think b', 'st think ba', 't think bac', ' think back', 'think back ', 'hink back t', 'ink back to', 'nk back to ', 'k back to w', ' back to wi', 'back to win', 'ack to wine', 'ck to wine,', 'k to wine, ', ' to wine, A', 'to wine, An', 'o wine, And', ' wine, And ', 'wine, And I', \"ine, And I'\", \"ne, And I'm\", \"e, And I'm \", \", And I'm h\", \" And I'm ha\", \"And I'm hap\", \"nd I'm happ\", \"d I'm happy\", \" I'm happy \", \"I'm happy o\", \"'m happy on\", 'm happy onc', ' happy once', 'happy once ', 'appy once a', 'ppy once ag', 'py once aga', 'y once agai', ' once again', 'once again.', 'nce again. ', 'ce again. I', 'e again. I ', ' again. I l', 'again. I li', 'gain. I lik', 'ain. I like', 'in. I like ', 'n. I like t', '. I like to', ' I like to ', 'I like to h', ' like to ha', 'like to han', 'ike to hang', 'ke to hang ', 'e to hang o', ' to hang ou', 'to hang out', 'o hang out ', ' hang out w', 'hang out wi', 'ang out wit', 'ng out with', 'g out with ', ' out with p', 'out with pr', 'ut with pro', 't with prog', ' with progr', 'with progra', 'ith program', 'th programm', 'h programmi', ' programmin', 'programming', 'rogramming ', 'ogramming a', 'gramming an', 'ramming and', 'amming and ', 'mming and d', 'ming and de', 'ing and dee', 'ng and deep', 'g and deep ', ' and deep l', 'and deep le', 'nd deep lea', 'd deep lear', ' deep learn', 'deep learni', 'eep learnin', 'ep learning', 'p learning.', ' learning. ', 'learning. B', 'earning. Bu', 'arning. But', 'rning. But ', 'ning. But w', 'ing. But wh', 'ng. But whe', 'g. But when', '. But when ', ' But when l', 'But when le', 'ut when lef', 't when left', ' when left ', 'when left a', 'hen left al', 'en left alo', 'n left alon', ' left alone', 'left alone,', 'eft alone, ', 'ft alone, M', 't alone, My', ' alone, My ', 'alone, My m', 'lone, My mi', 'one, My min', 'ne, My mind', 'e, My mind ', ', My mind t', ' My mind tu', 'My mind tur', 'y mind turn', ' mind turns', 'mind turns ', 'ind turns s', 'nd turns st', 'd turns str', ' turns stra', 'turns strai', 'urns straig', 'rns straigh', 'ns straight', 's straight ', ' straight t', 'straight to', 'traight to ', 'raight to w', 'aight to wi', 'ight to win', 'ght to wine']\n"
          ],
          "name": "stdout"
        }
      ]
    },
    {
      "cell_type": "code",
      "metadata": {
        "id": "cGYLXtT8vYw8"
      },
      "source": [
        "x = []\n",
        "for line in sequences: #전체 데이터에서 문장 샘플을 1개씩 꺼냄\n",
        "  temp_x = [char_to_index[char] for char in line] # 문장 샘플에서 각 글자에 대해서 정수 인코딩 수행\n",
        "  x.append(temp_x)"
      ],
      "execution_count": null,
      "outputs": []
    },
    {
      "cell_type": "code",
      "metadata": {
        "colab": {
          "base_uri": "https://localhost:8080/"
        },
        "id": "qBy-w0fuw5Tk",
        "outputId": "d009e0d2-e4f3-493d-dfd0-bb55e8a0966d"
      },
      "source": [
        "for line in x[:5]:\n",
        "  print(line)"
      ],
      "execution_count": null,
      "outputs": [
        {
          "output_type": "stream",
          "text": [
            "[8, 0, 16, 14, 28, 0, 24, 23, 0, 31, 18]\n",
            "[0, 16, 14, 28, 0, 24, 23, 0, 31, 18, 28]\n",
            "[16, 14, 28, 0, 24, 23, 0, 31, 18, 28, 17]\n",
            "[14, 28, 0, 24, 23, 0, 31, 18, 28, 17, 0]\n",
            "[28, 0, 24, 23, 0, 31, 18, 28, 17, 0, 21]\n"
          ],
          "name": "stdout"
        }
      ]
    },
    {
      "cell_type": "code",
      "metadata": {
        "id": "GSk89fkWw6j-"
      },
      "source": [
        "sequences = np.array(x)\n",
        "xx = sequences[:, :-1]\n",
        "y = sequences[:, -1]  # 맨 마지막 위치의 글자를 분리"
      ],
      "execution_count": null,
      "outputs": []
    },
    {
      "cell_type": "code",
      "metadata": {
        "colab": {
          "base_uri": "https://localhost:8080/"
        },
        "id": "RK7ikqsIw8Im",
        "outputId": "0884080f-e2ad-4143-990a-7c2082745cb2"
      },
      "source": [
        "for line in x[:5]:\n",
        "  print(line)"
      ],
      "execution_count": null,
      "outputs": [
        {
          "output_type": "stream",
          "text": [
            "[8, 0, 16, 14, 28, 0, 24, 23, 0, 31, 18]\n",
            "[0, 16, 14, 28, 0, 24, 23, 0, 31, 18, 28]\n",
            "[16, 14, 28, 0, 24, 23, 0, 31, 18, 28, 17]\n",
            "[14, 28, 0, 24, 23, 0, 31, 18, 28, 17, 0]\n",
            "[28, 0, 24, 23, 0, 31, 18, 28, 17, 0, 21]\n"
          ],
          "name": "stdout"
        }
      ]
    },
    {
      "cell_type": "code",
      "metadata": {
        "colab": {
          "base_uri": "https://localhost:8080/"
        },
        "id": "NXsFQ8Nuw9PE",
        "outputId": "24823573-f223-475c-a07e-11e1726ce269"
      },
      "source": [
        "print(y[:5])"
      ],
      "execution_count": null,
      "outputs": [
        {
          "output_type": "stream",
          "text": [
            "[18 28 17  0 21]\n"
          ],
          "name": "stdout"
        }
      ]
    },
    {
      "cell_type": "markdown",
      "metadata": {
        "id": "AuXCUr5Kw_jD"
      },
      "source": [
        "### 원-핫 인코딩 수행"
      ]
    },
    {
      "cell_type": "code",
      "metadata": {
        "id": "sWTeu48ew-Gf"
      },
      "source": [
        "sequences = [to_categorical(x, num_classes=vocab_size) for x in xx]"
      ],
      "execution_count": null,
      "outputs": []
    },
    {
      "cell_type": "code",
      "metadata": {
        "id": "qcIYHgMMxBB2"
      },
      "source": [
        "x = np.array(sequences)\n",
        "y = to_categorical(y, num_classes=vocab_size)  # y에 대한 원-핫 인코딩"
      ],
      "execution_count": null,
      "outputs": []
    },
    {
      "cell_type": "code",
      "metadata": {
        "colab": {
          "base_uri": "https://localhost:8080/"
        },
        "id": "ZBRMz88UxB70",
        "outputId": "766ca4fc-47ec-41c2-8ffc-a4641c3043dc"
      },
      "source": [
        "print(x.shape)"
      ],
      "execution_count": null,
      "outputs": [
        {
          "output_type": "stream",
          "text": [
            "(426, 10, 33)\n"
          ],
          "name": "stdout"
        }
      ]
    },
    {
      "cell_type": "markdown",
      "metadata": {
        "id": "WKeJj9REzmnC"
      },
      "source": [
        "- 샘플의 수 426  \n",
        "- 입력시퀀스의 길이 10  \n",
        "- 각 벡터의 차원 33 "
      ]
    },
    {
      "cell_type": "markdown",
      "metadata": {
        "id": "-BScbSO-zoHA"
      },
      "source": [
        "### 모델 설계"
      ]
    },
    {
      "cell_type": "code",
      "metadata": {
        "id": "WVyIApSsxHA0"
      },
      "source": [
        "from tensorflow.keras.models import Sequential\n",
        "from tensorflow.keras.layers import Dense, LSTM\n",
        "from tensorflow.keras.preprocessing.sequence import pad_sequences"
      ],
      "execution_count": null,
      "outputs": []
    },
    {
      "cell_type": "code",
      "metadata": {
        "id": "iAnResuyzpVs"
      },
      "source": [
        "model = Sequential()\n",
        "model.add(LSTM(128, input_shape=(x.shape[1], x.shape[2])))  # (10, 33)\n",
        "model.add(Dense(vocab_size, activation='softmax'))"
      ],
      "execution_count": null,
      "outputs": []
    },
    {
      "cell_type": "code",
      "metadata": {
        "colab": {
          "base_uri": "https://localhost:8080/"
        },
        "id": "aCeDrvL0zqXv",
        "outputId": "372989b1-68aa-4c97-b5b8-60c590bc9626"
      },
      "source": [
        "model.compile(loss='categorical_crossentropy', optimizer= 'adam', metrics=['accuracy'])\n",
        "model.fit(x, y, epochs=100, verbose=1)"
      ],
      "execution_count": null,
      "outputs": [
        {
          "output_type": "stream",
          "text": [
            "Epoch 1/100\n",
            "14/14 [==============================] - 1s 5ms/step - loss: 3.4462 - accuracy: 0.1573\n",
            "Epoch 2/100\n",
            "14/14 [==============================] - 0s 4ms/step - loss: 3.1475 - accuracy: 0.1972\n",
            "Epoch 3/100\n",
            "14/14 [==============================] - 0s 3ms/step - loss: 2.9878 - accuracy: 0.1972\n",
            "Epoch 4/100\n",
            "14/14 [==============================] - 0s 3ms/step - loss: 2.9673 - accuracy: 0.1972\n",
            "Epoch 5/100\n",
            "14/14 [==============================] - 0s 4ms/step - loss: 2.9328 - accuracy: 0.1972\n",
            "Epoch 6/100\n",
            "14/14 [==============================] - 0s 4ms/step - loss: 2.9181 - accuracy: 0.1972\n",
            "Epoch 7/100\n",
            "14/14 [==============================] - 0s 4ms/step - loss: 2.8865 - accuracy: 0.1972\n",
            "Epoch 8/100\n",
            "14/14 [==============================] - 0s 4ms/step - loss: 2.8578 - accuracy: 0.1995\n",
            "Epoch 9/100\n",
            "14/14 [==============================] - 0s 4ms/step - loss: 2.8176 - accuracy: 0.2019\n",
            "Epoch 10/100\n",
            "14/14 [==============================] - 0s 4ms/step - loss: 2.7570 - accuracy: 0.2136\n",
            "Epoch 11/100\n",
            "14/14 [==============================] - 0s 4ms/step - loss: 2.6793 - accuracy: 0.2254\n",
            "Epoch 12/100\n",
            "14/14 [==============================] - 0s 4ms/step - loss: 2.6309 - accuracy: 0.2371\n",
            "Epoch 13/100\n",
            "14/14 [==============================] - 0s 3ms/step - loss: 2.5289 - accuracy: 0.2817\n",
            "Epoch 14/100\n",
            "14/14 [==============================] - 0s 3ms/step - loss: 2.4788 - accuracy: 0.2864\n",
            "Epoch 15/100\n",
            "14/14 [==============================] - 0s 3ms/step - loss: 2.3895 - accuracy: 0.2958\n",
            "Epoch 16/100\n",
            "14/14 [==============================] - 0s 4ms/step - loss: 2.3150 - accuracy: 0.3216\n",
            "Epoch 17/100\n",
            "14/14 [==============================] - 0s 4ms/step - loss: 2.2692 - accuracy: 0.3592\n",
            "Epoch 18/100\n",
            "14/14 [==============================] - 0s 3ms/step - loss: 2.1874 - accuracy: 0.3592\n",
            "Epoch 19/100\n",
            "14/14 [==============================] - 0s 4ms/step - loss: 2.1211 - accuracy: 0.3568\n",
            "Epoch 20/100\n",
            "14/14 [==============================] - 0s 3ms/step - loss: 2.0547 - accuracy: 0.3850\n",
            "Epoch 21/100\n",
            "14/14 [==============================] - 0s 3ms/step - loss: 1.9770 - accuracy: 0.4319\n",
            "Epoch 22/100\n",
            "14/14 [==============================] - 0s 4ms/step - loss: 1.9139 - accuracy: 0.4390\n",
            "Epoch 23/100\n",
            "14/14 [==============================] - 0s 3ms/step - loss: 1.8360 - accuracy: 0.4695\n",
            "Epoch 24/100\n",
            "14/14 [==============================] - 0s 4ms/step - loss: 1.7708 - accuracy: 0.4648\n",
            "Epoch 25/100\n",
            "14/14 [==============================] - 0s 4ms/step - loss: 1.6905 - accuracy: 0.5070\n",
            "Epoch 26/100\n",
            "14/14 [==============================] - 0s 3ms/step - loss: 1.6692 - accuracy: 0.5047\n",
            "Epoch 27/100\n",
            "14/14 [==============================] - 0s 5ms/step - loss: 1.5790 - accuracy: 0.5493\n",
            "Epoch 28/100\n",
            "14/14 [==============================] - 0s 4ms/step - loss: 1.4964 - accuracy: 0.5915\n",
            "Epoch 29/100\n",
            "14/14 [==============================] - 0s 4ms/step - loss: 1.4422 - accuracy: 0.6056\n",
            "Epoch 30/100\n",
            "14/14 [==============================] - 0s 3ms/step - loss: 1.4295 - accuracy: 0.6033\n",
            "Epoch 31/100\n",
            "14/14 [==============================] - 0s 3ms/step - loss: 1.3447 - accuracy: 0.6197\n",
            "Epoch 32/100\n",
            "14/14 [==============================] - 0s 4ms/step - loss: 1.2679 - accuracy: 0.6573\n",
            "Epoch 33/100\n",
            "14/14 [==============================] - 0s 4ms/step - loss: 1.2274 - accuracy: 0.6432\n",
            "Epoch 34/100\n",
            "14/14 [==============================] - 0s 4ms/step - loss: 1.1368 - accuracy: 0.7066\n",
            "Epoch 35/100\n",
            "14/14 [==============================] - 0s 3ms/step - loss: 1.0762 - accuracy: 0.6995\n",
            "Epoch 36/100\n",
            "14/14 [==============================] - 0s 4ms/step - loss: 1.0313 - accuracy: 0.7230\n",
            "Epoch 37/100\n",
            "14/14 [==============================] - 0s 3ms/step - loss: 0.9626 - accuracy: 0.7629\n",
            "Epoch 38/100\n",
            "14/14 [==============================] - 0s 4ms/step - loss: 0.9126 - accuracy: 0.7700\n",
            "Epoch 39/100\n",
            "14/14 [==============================] - 0s 3ms/step - loss: 0.8873 - accuracy: 0.7840\n",
            "Epoch 40/100\n",
            "14/14 [==============================] - 0s 3ms/step - loss: 0.8292 - accuracy: 0.8333\n",
            "Epoch 41/100\n",
            "14/14 [==============================] - 0s 3ms/step - loss: 0.7663 - accuracy: 0.8474\n",
            "Epoch 42/100\n",
            "14/14 [==============================] - 0s 3ms/step - loss: 0.7343 - accuracy: 0.8545\n",
            "Epoch 43/100\n",
            "14/14 [==============================] - 0s 3ms/step - loss: 0.7129 - accuracy: 0.8474\n",
            "Epoch 44/100\n",
            "14/14 [==============================] - 0s 3ms/step - loss: 0.6525 - accuracy: 0.8897\n",
            "Epoch 45/100\n",
            "14/14 [==============================] - 0s 4ms/step - loss: 0.6146 - accuracy: 0.8944\n",
            "Epoch 46/100\n",
            "14/14 [==============================] - 0s 3ms/step - loss: 0.5760 - accuracy: 0.9061\n",
            "Epoch 47/100\n",
            "14/14 [==============================] - 0s 4ms/step - loss: 0.5210 - accuracy: 0.9366\n",
            "Epoch 48/100\n",
            "14/14 [==============================] - 0s 4ms/step - loss: 0.4914 - accuracy: 0.9319\n",
            "Epoch 49/100\n",
            "14/14 [==============================] - 0s 3ms/step - loss: 0.4615 - accuracy: 0.9272\n",
            "Epoch 50/100\n",
            "14/14 [==============================] - 0s 4ms/step - loss: 0.4495 - accuracy: 0.9460\n",
            "Epoch 51/100\n",
            "14/14 [==============================] - 0s 4ms/step - loss: 0.4424 - accuracy: 0.9249\n",
            "Epoch 52/100\n",
            "14/14 [==============================] - 0s 4ms/step - loss: 0.4275 - accuracy: 0.9413\n",
            "Epoch 53/100\n",
            "14/14 [==============================] - 0s 3ms/step - loss: 0.3889 - accuracy: 0.9460\n",
            "Epoch 54/100\n",
            "14/14 [==============================] - 0s 5ms/step - loss: 0.3553 - accuracy: 0.9554\n",
            "Epoch 55/100\n",
            "14/14 [==============================] - 0s 4ms/step - loss: 0.3178 - accuracy: 0.9601\n",
            "Epoch 56/100\n",
            "14/14 [==============================] - 0s 4ms/step - loss: 0.2998 - accuracy: 0.9671\n",
            "Epoch 57/100\n",
            "14/14 [==============================] - 0s 3ms/step - loss: 0.2926 - accuracy: 0.9671\n",
            "Epoch 58/100\n",
            "14/14 [==============================] - 0s 4ms/step - loss: 0.2807 - accuracy: 0.9671\n",
            "Epoch 59/100\n",
            "14/14 [==============================] - 0s 3ms/step - loss: 0.2660 - accuracy: 0.9695\n",
            "Epoch 60/100\n",
            "14/14 [==============================] - 0s 4ms/step - loss: 0.2504 - accuracy: 0.9695\n",
            "Epoch 61/100\n",
            "14/14 [==============================] - 0s 4ms/step - loss: 0.2295 - accuracy: 0.9742\n",
            "Epoch 62/100\n",
            "14/14 [==============================] - 0s 4ms/step - loss: 0.2154 - accuracy: 0.9718\n",
            "Epoch 63/100\n",
            "14/14 [==============================] - 0s 4ms/step - loss: 0.2055 - accuracy: 0.9789\n",
            "Epoch 64/100\n",
            "14/14 [==============================] - 0s 3ms/step - loss: 0.1985 - accuracy: 0.9765\n",
            "Epoch 65/100\n",
            "14/14 [==============================] - 0s 4ms/step - loss: 0.1909 - accuracy: 0.9789\n",
            "Epoch 66/100\n",
            "14/14 [==============================] - 0s 4ms/step - loss: 0.1839 - accuracy: 0.9789\n",
            "Epoch 67/100\n",
            "14/14 [==============================] - 0s 4ms/step - loss: 0.1771 - accuracy: 0.9812\n",
            "Epoch 68/100\n",
            "14/14 [==============================] - 0s 3ms/step - loss: 0.1716 - accuracy: 0.9742\n",
            "Epoch 69/100\n",
            "14/14 [==============================] - 0s 4ms/step - loss: 0.1551 - accuracy: 0.9765\n",
            "Epoch 70/100\n",
            "14/14 [==============================] - 0s 4ms/step - loss: 0.1520 - accuracy: 0.9789\n",
            "Epoch 71/100\n",
            "14/14 [==============================] - 0s 4ms/step - loss: 0.1454 - accuracy: 0.9789\n",
            "Epoch 72/100\n",
            "14/14 [==============================] - 0s 4ms/step - loss: 0.1392 - accuracy: 0.9765\n",
            "Epoch 73/100\n",
            "14/14 [==============================] - 0s 4ms/step - loss: 0.1390 - accuracy: 0.9789\n",
            "Epoch 74/100\n",
            "14/14 [==============================] - 0s 4ms/step - loss: 0.1352 - accuracy: 0.9718\n",
            "Epoch 75/100\n",
            "14/14 [==============================] - 0s 4ms/step - loss: 0.1393 - accuracy: 0.9765\n",
            "Epoch 76/100\n",
            "14/14 [==============================] - 0s 4ms/step - loss: 0.1287 - accuracy: 0.9765\n",
            "Epoch 77/100\n",
            "14/14 [==============================] - 0s 4ms/step - loss: 0.1204 - accuracy: 0.9765\n",
            "Epoch 78/100\n",
            "14/14 [==============================] - 0s 4ms/step - loss: 0.1136 - accuracy: 0.9765\n",
            "Epoch 79/100\n",
            "14/14 [==============================] - 0s 4ms/step - loss: 0.1132 - accuracy: 0.9789\n",
            "Epoch 80/100\n",
            "14/14 [==============================] - 0s 4ms/step - loss: 0.1108 - accuracy: 0.9836\n",
            "Epoch 81/100\n",
            "14/14 [==============================] - 0s 4ms/step - loss: 0.1112 - accuracy: 0.9765\n",
            "Epoch 82/100\n",
            "14/14 [==============================] - 0s 4ms/step - loss: 0.1102 - accuracy: 0.9789\n",
            "Epoch 83/100\n",
            "14/14 [==============================] - 0s 4ms/step - loss: 0.1014 - accuracy: 0.9836\n",
            "Epoch 84/100\n",
            "14/14 [==============================] - 0s 3ms/step - loss: 0.0970 - accuracy: 0.9836\n",
            "Epoch 85/100\n",
            "14/14 [==============================] - 0s 4ms/step - loss: 0.0971 - accuracy: 0.9812\n",
            "Epoch 86/100\n",
            "14/14 [==============================] - 0s 4ms/step - loss: 0.0956 - accuracy: 0.9789\n",
            "Epoch 87/100\n",
            "14/14 [==============================] - 0s 3ms/step - loss: 0.1007 - accuracy: 0.9765\n",
            "Epoch 88/100\n",
            "14/14 [==============================] - 0s 4ms/step - loss: 0.0963 - accuracy: 0.9789\n",
            "Epoch 89/100\n",
            "14/14 [==============================] - 0s 3ms/step - loss: 0.0899 - accuracy: 0.9765\n",
            "Epoch 90/100\n",
            "14/14 [==============================] - 0s 4ms/step - loss: 0.0878 - accuracy: 0.9742\n",
            "Epoch 91/100\n",
            "14/14 [==============================] - 0s 4ms/step - loss: 0.0862 - accuracy: 0.9836\n",
            "Epoch 92/100\n",
            "14/14 [==============================] - 0s 3ms/step - loss: 0.0828 - accuracy: 0.9859\n",
            "Epoch 93/100\n",
            "14/14 [==============================] - 0s 3ms/step - loss: 0.0810 - accuracy: 0.9836\n",
            "Epoch 94/100\n",
            "14/14 [==============================] - 0s 3ms/step - loss: 0.0821 - accuracy: 0.9812\n",
            "Epoch 95/100\n",
            "14/14 [==============================] - 0s 4ms/step - loss: 0.0784 - accuracy: 0.9836\n",
            "Epoch 96/100\n",
            "14/14 [==============================] - 0s 4ms/step - loss: 0.0777 - accuracy: 0.9836\n",
            "Epoch 97/100\n",
            "14/14 [==============================] - 0s 4ms/step - loss: 0.0768 - accuracy: 0.9859\n",
            "Epoch 98/100\n",
            "14/14 [==============================] - 0s 4ms/step - loss: 0.0729 - accuracy: 0.9812\n",
            "Epoch 99/100\n",
            "14/14 [==============================] - 0s 4ms/step - loss: 0.0717 - accuracy: 0.9836\n",
            "Epoch 100/100\n",
            "14/14 [==============================] - 0s 4ms/step - loss: 0.0730 - accuracy: 0.9836\n"
          ],
          "name": "stdout"
        },
        {
          "output_type": "execute_result",
          "data": {
            "text/plain": [
              "<tensorflow.python.keras.callbacks.History at 0x7f91dc419150>"
            ]
          },
          "metadata": {
            "tags": []
          },
          "execution_count": 53
        }
      ]
    },
    {
      "cell_type": "code",
      "metadata": {
        "id": "3YBsbYaKzwJD"
      },
      "source": [
        "def sentence_generation(model, char_to_index, seq_length, seed_text, n):\n",
        "  # 모델, 인덱스 정보, 문장 길이, 초기 시퀀스, 반복 횟수\n",
        "\n",
        "  init_text = seed_text  #문장 생성에 사용할 초기 시퀀스\n",
        "  sentence = ''\n",
        "\n",
        "  for _ in range(n): # n번 반복\n",
        "    encoded = [char_to_index[char] for char in seed_text]  #현재 시퀀스에 대한 정수 인코딩\n",
        "    encoded = pad_sequences([encoded], maxlen=seq_length, padding='pre')  #데이터에 대한 패딩\n",
        "    encoded = to_categorical(encoded, num_classes=len(char_to_index))\n",
        "    result = model.predict_classes(encoded, verbose=0)\n",
        "    # 입력한 x(현재 시퀀스)에 대해서 y를 예측하고 y(예측한 글자)를 result에 저장\n",
        "\n",
        "    for char, index in char_to_index.items():  # 만약 예측한 글자와 인덱스와 동일한 글자가 있다면\n",
        "      if index == result:  # 해당 글자가 예측 글자이므로 break\n",
        "        break\n",
        "    \n",
        "    seed_text = seed_text + char  # 현재 시퀀스 + 예측 글자를 현재 시퀀스에 변경\n",
        "    sentence = sentence + char  # 예측 글자를 문장에 저장\n",
        "\n",
        "  sentence = init_text + sentence\n",
        "  return sentence"
      ],
      "execution_count": null,
      "outputs": []
    },
    {
      "cell_type": "code",
      "metadata": {
        "colab": {
          "base_uri": "https://localhost:8080/"
        },
        "id": "uFVSszK51KMp",
        "outputId": "e20a79b8-dfc8-4d77-a83c-b345951c601a"
      },
      "source": [
        "print(sentence_generation(model, char_to_index, 10, 'I get on w', 100))"
      ],
      "execution_count": null,
      "outputs": [
        {
          "output_type": "stream",
          "text": [
            "/usr/local/lib/python3.7/dist-packages/tensorflow/python/keras/engine/sequential.py:455: UserWarning: `model.predict_classes()` is deprecated and will be removed after 2021-01-01. Please use instead:* `np.argmax(model.predict(x), axis=-1)`,   if your model does multi-class classification   (e.g. if it uses a `softmax` last-layer activation).* `(model.predict(x) > 0.5).astype(\"int32\")`,   if your model does binary classification   (e.g. if it uses a `sigmoid` last-layer activation).\n",
            "  warnings.warn('`model.predict_classes()` is deprecated and '\n"
          ],
          "name": "stderr"
        },
        {
          "output_type": "stream",
          "text": [
            "I get on with life as a programmer, I like to hang out with programming and deep learning. But when I stop my \n"
          ],
          "name": "stdout"
        }
      ]
    },
    {
      "cell_type": "code",
      "metadata": {
        "colab": {
          "base_uri": "https://localhost:8080/"
        },
        "id": "2zSdFixL1Sxc",
        "outputId": "4d64cd0e-107e-4d89-ce96-597de528df11"
      },
      "source": [
        "print(sentence_generation(model, char_to_index, 10, 'Do I love wine', 100))"
      ],
      "execution_count": null,
      "outputs": [
        {
          "output_type": "stream",
          "text": [
            "/usr/local/lib/python3.7/dist-packages/tensorflow/python/keras/engine/sequential.py:455: UserWarning: `model.predict_classes()` is deprecated and will be removed after 2021-01-01. Please use instead:* `np.argmax(model.predict(x), axis=-1)`,   if your model does multi-class classification   (e.g. if it uses a `softmax` last-layer activation).* `(model.predict(x) > 0.5).astype(\"int32\")`,   if your model does binary classification   (e.g. if it uses a `sigmoid` last-layer activation).\n",
            "  warnings.warn('`model.predict_classes()` is deprecated and '\n"
          ],
          "name": "stderr"
        },
        {
          "output_type": "stream",
          "text": [
            "Do I love wine more than beer? I like to hang out with programming and deep learning. But when I stop my talking, \n"
          ],
          "name": "stdout"
        }
      ]
    }
  ]
}