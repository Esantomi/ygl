{
 "cells": [
  {
   "cell_type": "code",
   "execution_count": 42,
   "metadata": {},
   "outputs": [
    {
     "name": "stdout",
     "output_type": "stream",
     "text": [
      "접속 중\n",
      "[<selenium.webdriver.remote.webelement.WebElement (session=\"67dd8782bceeb42b2bc0a27ce75726c2\", element=\"ff5105a7-a4fa-408f-93f2-4229dccdc262\")>, <selenium.webdriver.remote.webelement.WebElement (session=\"67dd8782bceeb42b2bc0a27ce75726c2\", element=\"8b33be5a-42ad-4b1a-9217-9eb091865416\")>, <selenium.webdriver.remote.webelement.WebElement (session=\"67dd8782bceeb42b2bc0a27ce75726c2\", element=\"37a06e15-da23-48d7-9d54-9d164c7f74b1\")>, <selenium.webdriver.remote.webelement.WebElement (session=\"67dd8782bceeb42b2bc0a27ce75726c2\", element=\"8c7051f7-525f-45c4-a31b-4969f08c289d\")>]\n",
      "['https://search.pstatic.net/common/?src=http%3A%2F%2Fblogfiles.naver.net%2FMjAyMTAxMzFfMjgx%2FMDAxNjEyMDg4NzQyODI3.L5h8U21UColAcciEnZsXmcjUPBQzS7rRAV_f8hmLIAwg.xM7csgBcu9GkTbczvvcLW9ZgT6l519gmsftlJYBXGUIg.JPEG.imvip554%2FIMG_6993.jpg&type=a340', 'https://search.pstatic.net/common/?src=http%3A%2F%2Fblogfiles.naver.net%2FMjAyMTAzMTdfMjU1%2FMDAxNjE1OTQ4NTgzNjQ1.5QVOoeAcOaoYNzvnF6-hLDQbAw_Yb-4K6DEYTaGmpHgg.BPXEgdUx2AomIVr5hyOr34bjDfdiTP9tL80jdzT8p4kg.JPEG.law2010%2F34019_52582_1121.jpg&type=a340', 'https://search.pstatic.net/sunny/?src=https%3A%2F%2Fi.pinimg.com%2F736x%2F8a%2F36%2F20%2F8a3620eb628dfd3e930e78b3d9350ec5.jpg&type=a340', 'https://search.pstatic.net/common/?src=http%3A%2F%2Fimgnews.naver.net%2Fimage%2F213%2F2021%2F02%2F04%2F0001178387_001_20210204164645636.jpg&type=a340', 'https://search.pstatic.net/common/?src=http%3A%2F%2Fblogfiles.naver.net%2FMjAyMTAzMjBfMTIg%2FMDAxNjE2MjQ2MDczNTIw.lyMY7mAuOAcWEX6d5JAgb4_XM0jpwpuHYZcoe2TKQFgg.lBGelBKRjczUpGfeif7mvyy59Vvw6bVX3a_VaiK9qwIg.JPEG.gyungskfk%2F1616246072933.jpg&type=a340', 'https://search.pstatic.net/common/?src=http%3A%2F%2Fimgnews.naver.net%2Fimage%2F382%2F2016%2F11%2F16%2F81369905.1_99_20161116182504.jpg&type=a340', 'https://search.pstatic.net/common/?src=http%3A%2F%2Fimgnews.naver.net%2Fimage%2F382%2F2021%2F02%2F09%2F0000889763_001_20210209080411879.jpg&type=a340', 'https://search.pstatic.net/common/?src=http%3A%2F%2Fblogfiles.naver.net%2FMjAyMTAzMTFfNTMg%2FMDAxNjE1NDU1NzgyNDg2.fgxH9AZtCCR6Llrq3D0P0NS2AvII9R4lNRh41sjkHwMg.sEV5wMCRYVdzEfnPlBF2NOZY_Fu37gMehMi60SKs700g.JPEG.joypoten%2F%25BA%25ED%25C7%25CE.jpg&type=a340', 'https://search.pstatic.net/common/?src=http%3A%2F%2Fimgnews.naver.net%2Fimage%2F003%2F2017%2F01%2F13%2FNISI20170113_0012581395_web_20170113172803722.jpg&type=a340', 'https://search.pstatic.net/common/?src=http%3A%2F%2Fimgnews.naver.net%2Fimage%2F047%2F2020%2F06%2F26%2F0002274755_005_20200626182407554.jpg&type=ofullfill340_600']\n",
      "수집 완료\n"
     ]
    }
   ],
   "source": [
    "import time\n",
    "from selenium import webdriver\n",
    "\n",
    "driver = webdriver.Chrome(\"./crawling_practice/chromedriver\")\n",
    "driver.implicitly_wait(3)  # 3초 대기. time.sleep과 비슷함\n",
    "driver.get(\"https://search.naver.com/search.naver?where=image&sm=tab_jum&query=%EB%B8%94%EB%9E%99%ED%95%91%ED%81%AC\")\n",
    "\n",
    "\n",
    "from bs4 import BeautifulSoup\n",
    "\n",
    "html = driver.page_source\n",
    "html_parsing = BeautifulSoup(html, \"lxml\")\n",
    "\n",
    "# 프로그레스바 (로딩 시 나옴_)\n",
    "from tqdm import tqdm\n",
    "\n",
    "# 네이버 검색 키워드\n",
    "keyword = \"블랙핑크\"\n",
    "\n",
    "# 중간 확인\n",
    "print(\"접속 중\")\n",
    "\n",
    "driver.get(url)\n",
    "\n",
    "imgs = driver.find_elements_by_css_selector(\"img._image\")\n",
    "print(images)\n",
    "\n",
    "\n",
    "result = []\n",
    "for img in imgs:\n",
    "    if \"http\" in img.get_attribute('src'):\n",
    "        result.append(img.get_attribute('src'))\n",
    "    \n",
    "print(result)\n",
    "\n",
    "driver.close()\n",
    "print(\"수집 완료\")"
   ]
  },
  {
   "cell_type": "code",
   "execution_count": 43,
   "metadata": {},
   "outputs": [
    {
     "name": "stderr",
     "output_type": "stream",
     "text": [
      "4it [00:00, 37.41it/s]"
     ]
    },
    {
     "name": "stdout",
     "output_type": "stream",
     "text": [
      "폴더가 있습니다.\n",
      "크롤링한 사진을 폴더에 넣습니다.\n"
     ]
    },
    {
     "name": "stderr",
     "output_type": "stream",
     "text": [
      "10it [00:00, 37.96it/s]"
     ]
    },
    {
     "name": "stdout",
     "output_type": "stream",
     "text": [
      "이미지 크롤링 완료\n"
     ]
    },
    {
     "name": "stderr",
     "output_type": "stream",
     "text": [
      "\n"
     ]
    }
   ],
   "source": [
    "# os\n",
    "import os\n",
    "\n",
    "if not os.path.isdir(\"./{}\".format(keyword)):\n",
    "    os.mkdir(\"./{}\".format(keyword))\n",
    "else:\n",
    "    print(\"폴더가 있습니다.\")\n",
    "    \n",
    "print(\"크롤링한 사진을 폴더에 넣습니다.\")\n",
    "\n",
    "from urllib.request import urlretrieve\n",
    "\n",
    "for idx, link in tqdm(enumerate(result)):\n",
    "    start = link.rfind('.')\n",
    "    end = link.rfind('&')\n",
    "    filetype = link[start:end]\n",
    "    \n",
    "    urlretrieve(link, './{}/{}{}{}'.format(keyword, keyword, idx, filetype))\n",
    "    \n",
    "print(\"이미지 크롤링 완료\")"
   ]
  },
  {
   "cell_type": "code",
   "execution_count": null,
   "metadata": {},
   "outputs": [],
   "source": []
  }
 ],
 "metadata": {
  "kernelspec": {
   "display_name": "Python 3",
   "language": "python",
   "name": "python3"
  },
  "language_info": {
   "codemirror_mode": {
    "name": "ipython",
    "version": 3
   },
   "file_extension": ".py",
   "mimetype": "text/x-python",
   "name": "python",
   "nbconvert_exporter": "python",
   "pygments_lexer": "ipython3",
   "version": "3.8.5"
  }
 },
 "nbformat": 4,
 "nbformat_minor": 4
}
