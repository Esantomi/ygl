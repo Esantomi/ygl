{
 "cells": [
  {
   "cell_type": "markdown",
   "id": "7cca8536",
   "metadata": {},
   "source": [
    "# OpenCV-Python 기초사용법\n",
    "\n",
    "## 영상속성"
   ]
  },
  {
   "cell_type": "code",
   "execution_count": 2,
   "id": "f4c5b817",
   "metadata": {},
   "outputs": [],
   "source": [
    "import sys\n",
    "import cv2\n",
    "import numpy as np"
   ]
  },
  {
   "cell_type": "code",
   "execution_count": 2,
   "id": "a1c7c904",
   "metadata": {},
   "outputs": [
    {
     "name": "stdout",
     "output_type": "stream",
     "text": [
      "<class 'numpy.ndarray'>\n",
      "(480, 640, 3)\n",
      "3\n"
     ]
    }
   ],
   "source": [
    "# cv2.imread(filename[, flags]) -> retval\n",
    "\n",
    "# retval\n",
    "    # numpy.nbarray : retval.ndim/shape/size/dtype\n",
    "    # dtype : uint8\n",
    "    # shape : gray영상의 경우 (h,w) 또는 color (h,w, 3) \n",
    "    # gray영상 : cv2.CV_8UC1 -> numpy.uint8\n",
    "    # color영상 : cv2.CV_8UC3 -> numpy.uint8\n",
    "    \n",
    "    \n",
    "img1 = cv2.imread('cat.bmp', cv2.IMREAD_COLOR)\n",
    "\n",
    "print(type(img1))  # numpy.ndarray만 사용 가능\n",
    "print(img1.shape)  # color는 3D이므로 (row, column, 3)\n",
    "print(img1.ndim)  # dimension : 3D"
   ]
  },
  {
   "cell_type": "code",
   "execution_count": 3,
   "id": "85c76a6d",
   "metadata": {},
   "outputs": [
    {
     "name": "stdout",
     "output_type": "stream",
     "text": [
      "type(img1): <class 'numpy.ndarray'>\n",
      "img1.shape: (480, 640)\n",
      "img2.shape: (480, 640, 3)\n",
      "img1.dtype: uint8\n",
      "img1.dtype: uint8\n",
      "img1.shape length: 2\n",
      "img2.shape length: 3\n"
     ]
    }
   ],
   "source": [
    "# 영상 불러오기\n",
    "img1 = cv2.imread('cat.bmp', cv2.IMREAD_GRAYSCALE)  # gray\n",
    "img2 = cv2.imread('cat.bmp', cv2.IMREAD_COLOR)  # color\n",
    "\n",
    "if img1 is None or img2 is None:\n",
    "    print('Image load failed!')\n",
    "    sys.exit()\n",
    "\n",
    "\n",
    "# 영상의 속성 참조\n",
    "print('type(img1):', type(img1))\n",
    "print('img1.shape:', img1.shape)\n",
    "print('img2.shape:', img2.shape)  # color라서 3\n",
    "print('img1.dtype:', img1.dtype)\n",
    "print('img1.dtype:', img2.dtype)\n",
    "\n",
    "print('img1.shape length:', len(img1.shape))  # (480, 640)이므로\n",
    "print('img2.shape length:', len(img2.shape))  # (480, 640, 3)"
   ]
  },
  {
   "cell_type": "markdown",
   "id": "38f56a0b",
   "metadata": {},
   "source": [
    "## 영상의 크기 참조"
   ]
  },
  {
   "cell_type": "code",
   "execution_count": 4,
   "id": "e2d5c8e7",
   "metadata": {},
   "outputs": [
    {
     "name": "stdout",
     "output_type": "stream",
     "text": [
      "img1 size: 640 x 480\n",
      "img2 size: 640 x 480\n"
     ]
    }
   ],
   "source": [
    "# row by col\n",
    "h, w = img1.shape  # h=480, w=640\n",
    "print('img1 size: {} x {}'.format(w, h))\n",
    "\n",
    "h, w = img2.shape[:2]  # (480, 640, 3) 중 앞 2개만\n",
    "print('img2 size: {} x {}'.format(w, h))\n",
    "\n",
    "# matrix 도메인과 pixel 도메인은 가로, 세로를 반대로 쓴다.\n",
    "# matrix 도메인은 가로가 먼저, pixel(모니터)은 세로가 먼저 온다."
   ]
  },
  {
   "cell_type": "markdown",
   "id": "9598534a",
   "metadata": {},
   "source": [
    "## 영상의 픽셀값 참조"
   ]
  },
  {
   "cell_type": "code",
   "execution_count": 5,
   "id": "799f67cc",
   "metadata": {},
   "outputs": [
    {
     "name": "stdout",
     "output_type": "stream",
     "text": [
      "252\n",
      "[255 254 246]\n"
     ]
    }
   ],
   "source": [
    "x = 20\n",
    "y = 30\n",
    "\n",
    "p1 =img1[y,x]  # 도메인이 반대이므로\n",
    "print(p1)  # gray\n",
    "\n",
    "p2 = img2[y, x]\n",
    "print(p2)  # color이므로 BGR 순서대로 [255, 254, 246]\n",
    "\n",
    "# 좌표값 입력해서 부분적으로 색깔 바꿔 주기\n",
    "# img1[10:20, 10:20] = 0  # 10-19까지 0(검은색)\n",
    "# img2[10:20, 10:20] = (0, 0, 255)  # BGR 셋 다 넣어 줘야 한다. 이 경우 빨간색\n",
    "\n",
    "cv2.imshow('image', img1)\n",
    "cv2.imshow('image2',img2)\n",
    "\n",
    "cv2.waitKey()\n",
    "cv2.destroyAllWindows()"
   ]
  },
  {
   "cell_type": "markdown",
   "id": "c860de41",
   "metadata": {},
   "source": [
    "## 영상생성"
   ]
  },
  {
   "cell_type": "code",
   "execution_count": 6,
   "id": "ad44259b",
   "metadata": {},
   "outputs": [
    {
     "data": {
      "text/plain": [
       "'\\nnumpy.empty(shape, dtype)\\nnumpy.zeros(shape, dtype)\\nnumpy.ones(shape, dtype)\\nnumpy.full(shape, fill_value, dtype)\\n'"
      ]
     },
     "execution_count": 6,
     "metadata": {},
     "output_type": "execute_result"
    }
   ],
   "source": [
    "'''\n",
    "numpy.empty(shape, dtype)\n",
    "numpy.zeros(shape, dtype)\n",
    "numpy.ones(shape, dtype)\n",
    "numpy.full(shape, fill_value, dtype)\n",
    "'''"
   ]
  },
  {
   "cell_type": "code",
   "execution_count": 7,
   "id": "fecc429e",
   "metadata": {},
   "outputs": [],
   "source": [
    "import numpy as np\n",
    "import cv2\n",
    "\n",
    "# 새 영상 생성하기\n",
    "img1 = np.empty((240, 320), dtype=np.uint8)       # grayscale image (가로, 세로)\n",
    "img2 = np.zeros((240, 320, 3), dtype=np.uint8)    # color image\n",
    "img3 = np.ones((240, 320), dtype=np.uint8) * 255  # dark gray\n",
    "img4 = np.full((240, 320, 3), (0, 255, 255), dtype=np.uint8)\n",
    "# 원하는 상수 채우기: (0, 255, 255) = yellow\n",
    "\n",
    "cv2.imshow('img1', img1)\n",
    "cv2.imshow('img2', img2)\n",
    "cv2.imshow('img3', img3)\n",
    "cv2.imshow('img4', img4)\n",
    "cv2.waitKey()\n",
    "cv2.destroyAllWindows()"
   ]
  },
  {
   "cell_type": "markdown",
   "id": "impaired-microwave",
   "metadata": {},
   "source": [
    "- np.empty()는 (값의 초기화를 수행하지 않고) 주어진 형태와 타입을 갖는 새로운 어레이를 반환한다. 초기화를 수행하지 않으므로 쓰레기 값이 들어가 있다."
   ]
  },
  {
   "cell_type": "markdown",
   "id": "5f75a8f4",
   "metadata": {},
   "source": [
    "## 새영상 생성"
   ]
  },
  {
   "cell_type": "code",
   "execution_count": 8,
   "id": "2405862f",
   "metadata": {
    "scrolled": true
   },
   "outputs": [
    {
     "name": "stdout",
     "output_type": "stream",
     "text": [
      "(194, 259, 3)\n",
      "uint8\n"
     ]
    }
   ],
   "source": [
    "# 영상 복사\n",
    "# img1 = cv2.imread('cat.bmp', cv2.IMREAD_COLOR)\n",
    "img1 = cv2.imread('HappyFish.jpg')  # 기본적으로 color\n",
    "\n",
    "if img1 is None:\n",
    "    print(\"image load failed\")\n",
    "    sys.exit()\n",
    "\n",
    "img2 = img1  # 메모리의 같은 주소를 참조하므로 img1을 바꾸면 img2도 바뀐다.\n",
    "img3 = img1.copy()  # matrix를 copy\n",
    "\n",
    "img1[:,:] = (0, 255, 255)  # img1 전체를 노란색(0, 255, 255)으로 변경\n",
    "# img1, img2는 전체 노란색으로 나오고 img3만 HappyFish가 나온다.\n",
    "\n",
    "print(img1.shape)\n",
    "print(img1.dtype)\n",
    "\n",
    "cv2.imshow('img1', img1)\n",
    "cv2.imshow('img2', img2)\n",
    "cv2.imshow('img3', img3)\n",
    "\n",
    "cv2.waitKey()\n",
    "cv2.destroyAllWindows()"
   ]
  },
  {
   "cell_type": "markdown",
   "id": "df02c35a",
   "metadata": {},
   "source": [
    "## 부분 영상 추출"
   ]
  },
  {
   "cell_type": "code",
   "execution_count": 9,
   "id": "67827998",
   "metadata": {},
   "outputs": [],
   "source": [
    "img1 = cv2.imread('HappyFish.jpg')\n",
    "\n",
    "img2 = img1[40:120, 30:150]  # numpy.ndarray의 슬라이싱\n",
    "img3 = img1[40:120, 30:150].copy()\n",
    "\n",
    "img2.fill(0)  # 0 = 검정색\n",
    "\n",
    "cv2.imshow('img1', img1)  # 얼굴 잘린 HappyFish\n",
    "cv2.imshow('img2', img2)  # 검은 화면\n",
    "cv2.imshow('img3', img3)  # HappyFish 얼굴\n",
    "\n",
    "\n",
    "cv2.waitKey()\n",
    "cv2.destroyAllWindows()"
   ]
  },
  {
   "cell_type": "markdown",
   "id": "4af3102a",
   "metadata": {},
   "source": [
    "## 마스크 연산과 ROI"
   ]
  },
  {
   "cell_type": "code",
   "execution_count": 4,
   "id": "95a50d0b",
   "metadata": {
    "scrolled": false
   },
   "outputs": [],
   "source": [
    "# 마스크 영상을 이용한 영상 합성\n",
    "src = cv2.imread('airplane.bmp', cv2.IMREAD_COLOR)         # 비행기 그림(source)\n",
    "mask = cv2.imread('mask_plane.bmp', cv2.IMREAD_GRAYSCALE)  # 비행기 윤곽(mask)\n",
    "dst = cv2.imread('field.bmp', cv2.IMREAD_COLOR)            # 합성할 들판 사진(destination)\n",
    "\n",
    "if src is None or mask is None or dst is None:\n",
    "    print('Image load failed!')\n",
    "    sys.exit()\n",
    "    \n",
    "\n",
    "# 영상의 포맷과 형식이 같아야 함\n",
    "# cv2.copyTo(src, mask, dst)   # dst 윈도우에 field를 배경으로 한 airplane이 나옴\n",
    "# dst = cv2.copyTo(src, mask)  # dst 윈도우에 mask의 검은 바탕을 배경으로 한 airplane이 나옴\n",
    "\n",
    "# Using numpy\n",
    "dst[mask > 0] = src[mask > 0]\n",
    "\n",
    "# 0보다 큰 것 = 1(True)\n",
    "# mask는 검은 부분이 0인 matrix\n",
    "# src에서 mask의 값이 있는 좌표들의 값을 추출해서 dst의 해당 좌표값을 대체\n",
    "\n",
    "# np.column_stack(np.where(src[mask > 0]))\n",
    "# print(src[mask > 0])  # src에서 mask의 흰색 부분만 출력\n",
    "\n",
    "cv2.imshow('src', src)\n",
    "cv2.imshow('dst', dst)\n",
    "cv2.imshow('mask', mask)\n",
    "cv2.waitKey()\n",
    "cv2.destroyAllWindows()"
   ]
  },
  {
   "cell_type": "markdown",
   "id": "inclusive-stomach",
   "metadata": {},
   "source": [
    "- cv2.copyTo() : copyTo(src, mask[, dst]) -> dst"
   ]
  },
  {
   "attachments": {},
   "cell_type": "markdown",
   "id": "placed-renaissance",
   "metadata": {},
   "source": [
    "![copyto](https://user-images.githubusercontent.com/61646760/123933765-a71ab300-d9cd-11eb-9693-be29ff40062a.png)"
   ]
  },
  {
   "cell_type": "markdown",
   "id": "e04ff7bc",
   "metadata": {},
   "source": [
    "## 알파 채널을 마스크 영상으로 이용"
   ]
  },
  {
   "cell_type": "code",
   "execution_count": 5,
   "id": "bece5737",
   "metadata": {},
   "outputs": [
    {
     "name": "stdout",
     "output_type": "stream",
     "text": [
      "(222, 180, 4)\n"
     ]
    }
   ],
   "source": [
    "# 고양이 사진에 OpenCV 로고 넣기\n",
    "src = cv2.imread('cat.bmp', cv2.IMREAD_COLOR)\n",
    "logo = cv2.imread('opencv-logo-white.png', cv2.IMREAD_UNCHANGED)  # 원본 이미지\n",
    "\n",
    "print(logo.shape)  # 채널이 4인 이유는 BGR + alpha channel(transparent)\n",
    "\n",
    "if src is None or logo is None:\n",
    "    print('Image load failed!')\n",
    "    sys.exit()\n",
    "\n",
    "mask = logo[:, :, 3]    # mask는 알파 채널로 만든 마스크 영상 (zero-based라 3이면 마지막)\n",
    "logo = logo[:, :, :-1]  # logo는 b, g, r 3채널로 구성된 컬러 영상 (-1: 마지막 것만 제외)\n",
    "h, w = mask.shape[:2]   # 인덱스 0, 1을 각각 h, w에 할당 (즉, 그림의 세로, 가로 사이즈)\n",
    "# print(mask.shape)     # (222, 180)\n",
    "crop = src[10:10+h, 10:10+w]      # logo, mask와 같은 크기의 부분 영상 추출\n",
    "# crop = src[100:10+h, 100:10+w]  # 위치가 어떻게 바뀌는지 확인용\n",
    "\n",
    "cv2.copyTo(logo, mask, crop)\n",
    "# crop[mask > 0] = logo[mask > 0]  # boolean index 사용해서 합성\n",
    "\n",
    "cv2.imshow('src', src)\n",
    "cv2.imshow('logo', logo)\n",
    "cv2.imshow('mask', mask)\n",
    "cv2.waitKey()\n",
    "cv2.destroyAllWindows()"
   ]
  },
  {
   "attachments": {},
   "cell_type": "markdown",
   "id": "varied-fifteen",
   "metadata": {},
   "source": [
    "![copyto2](https://user-images.githubusercontent.com/61646760/123933777-a8e47680-d9cd-11eb-9352-3234b4e06cfc.png)"
   ]
  },
  {
   "cell_type": "markdown",
   "id": "37b2e61d",
   "metadata": {},
   "source": [
    "## OpenCV 그리기 함수"
   ]
  },
  {
   "cell_type": "code",
   "execution_count": null,
   "id": "7dfffbee",
   "metadata": {},
   "outputs": [],
   "source": [
    "# cv2.line(img, pt1, pt2, color, thickness = None, lineType = None) -> img\n",
    "# flags\n",
    "    # img:그림을 그릴 영상\n",
    "    # pt1, pt2: 직선의 시작점, 끝점\n",
    "    # color: 직선의 칼라 (B,G,R)의 튜플\n",
    "    # thinkness: 선두께\n",
    "    # lineType: cv2.LINE_4, cv2.LINE_8, cv2.LINE_AA\n",
    "    \n",
    "# cv2.rectangle(img, pt1, pt2, color, thickness = None, lineType = None) -> img\n",
    "# cv2.rectangle(img, rect, color, thickness = None, lineType = None) -> img\n",
    "    # rect: 사각형의 위치 정보 (x, y, w, h)\n",
    "        \n",
    "# cv2.circle(img, center, radius, color, thickness = None, lineType = None) -> img\n",
    "    # center: 원의 중심좌표 (x, y)\n",
    "    # radius : 원의 반지름\n",
    "    \n",
    "# cv2.polylines(img, pts, isClosed, color, thickness = None, lineType = None) -> img\n",
    "    # center: 다각형 점들의 array\n",
    "    # isClosed : True for 폐곡선"
   ]
  },
  {
   "cell_type": "code",
   "execution_count": null,
   "id": "d6b1ab1e",
   "metadata": {},
   "outputs": [],
   "source": [
    "import numpy as np\n",
    "import cv2\n",
    "\n",
    "img = np.full((400, 400, 3), 255, np.uint8)  # 400x400x3을 255로 채우기(= 흰색)\n",
    "\n",
    "# x, y 좌표 순서\n",
    "# 선 긋기\n",
    "cv2.line(img, (50, 50), (200, 50), (0, 0, 255), 5)  # BGR이니 빨간색, 두께 5\n",
    "cv2.line(img, (50, 60), (150, 160), (0, 0, 128))    # 50, 60에서 시작해서 150, 160까지 선\n",
    "\n",
    "# 사각형 그리기\n",
    "cv2.rectangle(img, (50, 200, 150, 100), (0, 255, 0), 2)     # rect를 준 것\n",
    "cv2.rectangle(img, (70, 220), (180, 280), (0, 128, 0), -1)  # pt1, pt2를 준 것, -1 내부 채우기\n",
    "\n",
    "# 원 그리기 (원 둘레가 살짝 깨짐)\n",
    "# cv2.circle(img, (300, 100), 30, (255, 255, 0), -1)  # -1 내부 채우기\n",
    "# cv2.circle(img, (300, 100), 60, (255, 0, 0), 3)\n",
    "\n",
    "# LINE_AA를 쓰면 원이 부드럽게 그려진다.\n",
    "cv2.circle(img, (300, 100), 30, (255, 255, 0), -1, cv2.LINE_AA)  # -1 내부 채우기\n",
    "cv2.circle(img, (300, 100), 60, (255, 0, 0), 3, cv2.LINE_AA)\n",
    "\n",
    "# 다각형 그리기\n",
    "pts = np.array([[250, 200], [300, 200], [350, 300], [250, 300]])  # array를 list로 만듦\n",
    "cv2.polylines(img, [pts], True, (255, 0, 255), 2)                 # pts: 다각형 꼭지점 좌표\n",
    "\n",
    "# 텍스트 그리기\n",
    "text = 'Hello? OpenCV ' + cv2.__version__  # 버전 : 4.5.2\n",
    "cv2.putText(img, text, (50, 350), cv2.FONT_HERSHEY_SIMPLEX, 0.8, \n",
    "            (0, 0, 255), 1, cv2.LINE_AA)\n",
    "\n",
    "cv2.imshow(\"img\", img)\n",
    "cv2.waitKey()\n",
    "cv2.destroyAllWindows()"
   ]
  },
  {
   "attachments": {},
   "cell_type": "markdown",
   "id": "affiliated-northern",
   "metadata": {},
   "source": [
    "![line](https://user-images.githubusercontent.com/61646760/123933792-ab46d080-d9cd-11eb-89ce-fa5aae274e15.png)"
   ]
  },
  {
   "cell_type": "markdown",
   "id": "3c4be315",
   "metadata": {},
   "source": [
    "## 카메라와 동영상 처리하기 "
   ]
  },
  {
   "cell_type": "code",
   "execution_count": null,
   "id": "77abefed",
   "metadata": {},
   "outputs": [],
   "source": [
    "# cv2.VideoCapture(index/filename, apiPreference=None) -> retval\n",
    "# index: camera_id or filename\n",
    "# apiPreference=None\n",
    "\n",
    "\n",
    "# cv2.VideoCapture.open(index/filename, apiPreference=None) -> retval\n",
    "# retval: True or False\n",
    "\n",
    "# cv2.VideoCapture.read(image=None) -> retval, image\n",
    "# retval : True or False\n",
    "\n",
    "# cv2.VideoCapture.get() -> retval\n",
    "\n",
    "# cv2.Canny(image, threshold1, threshold2)\n",
    "# image:입력영상\n",
    "# threshold1 = low value, threshold2 =  high value"
   ]
  },
  {
   "cell_type": "code",
   "execution_count": 4,
   "id": "e35dfdeb",
   "metadata": {},
   "outputs": [
    {
     "name": "stdout",
     "output_type": "stream",
     "text": [
      "Frame width: 640\n",
      "Frame height: 360\n"
     ]
    }
   ],
   "source": [
    "# 카메라 열기\n",
    "cap = cv2.VideoCapture(2)  # 0으로 하면 디폴트 카메라 열림 (안 되면 변경)\n",
    "\n",
    "if not cap.isOpened():  # True or False\n",
    "    print(\"Camera open failed!\")\n",
    "    sys.exit()\n",
    "\n",
    "\n",
    "# 카메라 프레임 크기 출력\n",
    "print('Frame width:', int(cap.get(cv2.CAP_PROP_FRAME_WIDTH)))    # cap의 화면 width\n",
    "print('Frame height:', int(cap.get(cv2.CAP_PROP_FRAME_HEIGHT)))  # cap의 화면 height\n",
    "\n",
    "\n",
    "cap.set(cv2.CAP_PROP_FRAME_WIDTH, 320)   # 영상 넓이 설정. 없으면 자동 설정\n",
    "cap.set(cv2.CAP_PROP_FRAME_HEIGHT, 240)  # 영상 높이 설정. 없으면 자동 설정\n",
    "\n",
    "\n",
    "# 카메라 프레임 처리\n",
    "while True:\n",
    "    ret, frame = cap.read()  # 영상을 read하면 2개 parameters가 들어옴 (ret는 TF 값)\n",
    "\n",
    "    if not ret:\n",
    "        break\n",
    "\n",
    "    edge = cv2.Canny(frame, 50, 150)  # Canny()는 윤곽을 받음\n",
    "    inversed = ~frame                 # 반전\n",
    "    \n",
    "    cv2.imshow('frame', frame)        # 일반 영상\n",
    "    cv2.imshow('frame1', edge)        # 윤곽 딴 영상\n",
    "    cv2.imshow('inversed', inversed)  # 반전 영상\n",
    "    # 따라서 총 3개의 영상이 뜬다.\n",
    "\n",
    "    if cv2.waitKey(10) == 27:  # ESC키로 종료\n",
    "        break\n",
    "\n",
    "cap.release()            # 동영상 정보를 받지 않음\n",
    "cv2.destroyAllWindows()  # 윈도우 닫기"
   ]
  },
  {
   "attachments": {},
   "cell_type": "markdown",
   "id": "thousand-upgrade",
   "metadata": {},
   "source": [
    "![videocapture](https://user-images.githubusercontent.com/61646760/123933803-ada92a80-d9cd-11eb-89ac-91e38e6d7e91.png)"
   ]
  },
  {
   "cell_type": "markdown",
   "id": "cd8ac06b",
   "metadata": {},
   "source": [
    "## 카메라 동영상 저장하기"
   ]
  },
  {
   "cell_type": "code",
   "execution_count": 1,
   "id": "9692eeec",
   "metadata": {},
   "outputs": [],
   "source": [
    "# cv2.VideoWriter(filename, fourcc, fps, framesize, isColor=None) -> retval\n",
    "# filename: 저장할 이름\n",
    "# fourcc: cv2.VideoWriter_fourcc(*'DIVX') 를 사용\n",
    "# fps: 초당 프레임 수 e.g. 30\n",
    "# frameSize: 프레임 크기 e.g., [640, 480])\n",
    "# isColor: Color 영상"
   ]
  },
  {
   "cell_type": "code",
   "execution_count": 17,
   "id": "4f04c2f6",
   "metadata": {},
   "outputs": [],
   "source": [
    "# import sys\n",
    "# import cv2\n",
    "\n",
    "\n",
    "cap = cv2.VideoCapture(2)\n",
    "\n",
    "if not cap.isOpened():\n",
    "    print(\"Camera open failed!\")\n",
    "    sys.exit()\n",
    "\n",
    "# cap.get(cv2.CAP_PROP_FRAME_WIDTH) -> float type 반환\n",
    "w = round(cap.get(cv2.CAP_PROP_FRAME_WIDTH))   # 정수형으로 바꾸기 위해 round\n",
    "h = round(cap.get(cv2.CAP_PROP_FRAME_HEIGHT))  # width와 height 가져오기\n",
    "\n",
    "fps = cap.get(cv2.CAP_PROP_FPS)  # frame/second\n",
    "\n",
    "# fourcc = cv2.VideoWriter_fourcc(*'MPEG')  # MPEG로 쓰기 (fourcc: four character code)\n",
    "fourcc = cv2.VideoWriter_fourcc(*'DIVX')    # *'DIVX' == 'D', 'I', 'V', 'X'\n",
    "delay = round(1000 / fps)\n",
    "\n",
    "out = cv2.VideoWriter('output.avi', fourcc, fps, (w, h))  # output.avi로 저장\n",
    "\n",
    "if not out.isOpened():\n",
    "    print('File open failed!')\n",
    "    cap.release()\n",
    "    sys.exit()\n",
    "\n",
    "while True:\n",
    "    ret, frame = cap.read()\n",
    "\n",
    "    if not ret:\n",
    "        break\n",
    "\n",
    "    # inversed = ~frame\n",
    "    edge = cv2.Canny(frame, 50, 150)\n",
    "    edge_color = cv2.cvtColor(edge, cv2.COLOR_GRAY2BGR)  # 카메라가 유색이므로 color로 변경\n",
    "\n",
    "    out.write(frame)        # 소리는 capture가 안 됨 (프레임 받아 저장)\n",
    "    # out.write(inversed)\n",
    "    out.write(edge_color)\n",
    "\n",
    "    cv2.imshow('frame', frame)\n",
    "    # cv2.imshow('inversed', inversed)\n",
    "    cv2.imshow('edge', edge)\n",
    "\n",
    "    if cv2.waitKey(delay) == 27:  # delay만큼 wait\n",
    "        break\n",
    "\n",
    "cap.release()\n",
    "out.release()\n",
    "\n",
    "cv2.destroyAllWindows()\n",
    "\n",
    "# 뒤부터 수업"
   ]
  },
  {
   "cell_type": "markdown",
   "id": "fc51e7f6",
   "metadata": {},
   "source": [
    "## 키보드 이벤트 처리하기"
   ]
  },
  {
   "cell_type": "code",
   "execution_count": 21,
   "id": "e4625866",
   "metadata": {},
   "outputs": [],
   "source": [
    "# import sys\n",
    "# import numpy as np\n",
    "# import cv2\n",
    "\n",
    "\n",
    "img = cv2.imread('cat.bmp', cv2.IMREAD_GRAYSCALE)\n",
    "\n",
    "if img is None:\n",
    "    print('Image load failed!')\n",
    "    sys.exit()\n",
    "\n",
    "cv2.namedWindow('image')\n",
    "cv2.imshow('image', img)\n",
    "\n",
    "# cv2.waitKeyEx()\n",
    "\n",
    "while True:\n",
    "    keycode = cv2.waitKey()\n",
    "    if keycode == ord('i'):\n",
    "        img = ~img\n",
    "        cv2.imshow('image', img)\n",
    "    elif keycode == 27:\n",
    "        break\n",
    "\n",
    "cv2.destroyAllWindows()\n"
   ]
  },
  {
   "cell_type": "markdown",
   "id": "8978ba6f",
   "metadata": {},
   "source": [
    "## 마우스 이벤트 처리하기"
   ]
  },
  {
   "cell_type": "code",
   "execution_count": null,
   "id": "70330c53",
   "metadata": {},
   "outputs": [],
   "source": [
    "# cv2.setMouseCallback(windowName, onMouse, param = None) -> None\n",
    "    # windowName: 마우스이벤트를 수행할 창 이름\n",
    "    # onMouse: 마우스 이벤트 콜벡함수\n",
    "    # param: 콜백함수에 전달할 데이터\n",
    "\n",
    "# onMouse(event, x, y, flags, param) -> None\n",
    "# event: 마우스 이벤트 종류 e.g., cv2.EVENT_LBUTTONDOWN\n",
    "# x, y : 창을 기준으로 이벤트 발생좌표\n",
    "# flags: 이벤트시 발생 상태 e.g., \"ctrl\"\n",
    "# param: cv2.setMouseCallback()함수에서 설정한 데이터"
   ]
  },
  {
   "cell_type": "code",
   "execution_count": 34,
   "id": "44a2f179",
   "metadata": {},
   "outputs": [
    {
     "name": "stdout",
     "output_type": "stream",
     "text": [
      "EVENT_LBUTTONDOWN: 88, 207\n",
      "EVENT_LBUTTONUP: 88, 207\n",
      "EVENT_LBUTTONDOWN: 319, 217\n",
      "EVENT_LBUTTONUP: 320, 217\n",
      "EVENT_LBUTTONDOWN: 79, 230\n",
      "EVENT_LBUTTONUP: 311, 148\n",
      "EVENT_LBUTTONDOWN: 253, 344\n",
      "EVENT_LBUTTONUP: 492, 245\n",
      "EVENT_LBUTTONDOWN: 133, 103\n",
      "EVENT_LBUTTONUP: 443, 86\n",
      "EVENT_LBUTTONDOWN: 551, 81\n",
      "EVENT_LBUTTONUP: 543, 85\n",
      "EVENT_LBUTTONDOWN: 62, 333\n",
      "EVENT_LBUTTONUP: 626, 64\n"
     ]
    }
   ],
   "source": [
    "# import sys\n",
    "# import numpy as np\n",
    "# import cv2\n",
    "\n",
    "\n",
    "oldx = oldy = -1\n",
    "\n",
    "def on_mouse(event, x, y, flags, param):\n",
    "    global oldx, oldy\n",
    "\n",
    "    if event == cv2.EVENT_LBUTTONDOWN:\n",
    "        oldx, oldy = x, y\n",
    "        print('EVENT_LBUTTONDOWN: %d, %d' % (x, y))\n",
    "\n",
    "    elif event == cv2.EVENT_LBUTTONUP:\n",
    "        print('EVENT_LBUTTONUP: %d, %d' % (x, y))\n",
    "\n",
    "#     elif event == cv2.EVENT_MOUSEMOVE:\n",
    "#         if flags & cv2.EVENT_FLAG_LBUTTON:\n",
    "#             cv2.line(img, (oldx, oldy), (x, y), (0, 0, 255), 4, cv2.LINE_AA)\n",
    "#             cv2.imshow('image', img)\n",
    "#             oldx, oldy = x, y\n",
    "\n",
    "\n",
    "img = np.ones((480, 640, 3), dtype=np.uint8) * 255\n",
    "\n",
    "cv2.namedWindow('image')\n",
    "cv2.setMouseCallback('image', on_mouse, img) #항상 창을 띄우고 호출\n",
    "\n",
    "cv2.imshow('image', img)\n",
    "cv2.waitKey()\n",
    "\n",
    "cv2.destroyAllWindows()\n"
   ]
  },
  {
   "cell_type": "markdown",
   "id": "b84634b6",
   "metadata": {},
   "source": [
    "## 트랙바 사용하기"
   ]
  },
  {
   "cell_type": "code",
   "execution_count": null,
   "id": "10bd5ff7",
   "metadata": {},
   "outputs": [],
   "source": [
    "# createTrackbar(trackbarName, windowName, value, count, onChange) -> None\n",
    "# trackbarName: 트랙바 이름\n",
    "# windowName : 트랙바를 생성할 창 이름\n",
    "# value : 트랙바 위치 초기값\n",
    "# count : 트랙바 최댓값, 최솟값은 0\n",
    "# onChange :callback 함수 e.g., onChange(pos) 위치를 정수형태로 전달"
   ]
  },
  {
   "cell_type": "code",
   "execution_count": 38,
   "id": "a4ac2e54",
   "metadata": {},
   "outputs": [],
   "source": [
    "# import numpy as np\n",
    "# import cv2\n",
    "\n",
    "\n",
    "def on_level_change(pos):\n",
    "    print(pos)\n",
    "    value = pos * 16\n",
    "#     if value >= 255:\n",
    "#         value = 255\n",
    "#     value = np.clip(value,0,255)\n",
    "\n",
    "    img[:] = value\n",
    "    cv2.imshow('image', img)\n",
    "\n",
    "\n",
    "img = np.zeros((480, 640), np.uint8)\n",
    "cv2.namedWindow('image')\n",
    "cv2.createTrackbar('level', 'image', 0, 16, on_level_change) # 창이 생성된 후 호출\n",
    "\n",
    "cv2.imshow('image', img)\n",
    "cv2.waitKey()\n",
    "cv2.destroyAllWindows()"
   ]
  },
  {
   "cell_type": "code",
   "execution_count": null,
   "id": "fa427473",
   "metadata": {},
   "outputs": [],
   "source": []
  }
 ],
 "metadata": {
  "kernelspec": {
   "display_name": "Python 3",
   "language": "python",
   "name": "python3"
  },
  "language_info": {
   "codemirror_mode": {
    "name": "ipython",
    "version": 3
   },
   "file_extension": ".py",
   "mimetype": "text/x-python",
   "name": "python",
   "nbconvert_exporter": "python",
   "pygments_lexer": "ipython3",
   "version": "3.8.5"
  }
 },
 "nbformat": 4,
 "nbformat_minor": 5
}
