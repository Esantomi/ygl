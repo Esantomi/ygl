{
 "cells": [
  {
   "cell_type": "markdown",
   "id": "auburn-spouse",
   "metadata": {},
   "source": [
    "# pandas의 기본 연산 - Series"
   ]
  },
  {
   "cell_type": "code",
   "execution_count": 1,
   "id": "accepting-breakfast",
   "metadata": {},
   "outputs": [],
   "source": [
    "import pandas as pd"
   ]
  },
  {
   "cell_type": "code",
   "execution_count": 2,
   "id": "polish-machine",
   "metadata": {},
   "outputs": [],
   "source": [
    "# 딕셔너리 형태로 Series 만들기\n",
    "\n",
    "a = {'a' : 10, 'b' : 20, 'c' : 30, 'd' : 40, 'e' : 50}"
   ]
  },
  {
   "cell_type": "code",
   "execution_count": 3,
   "id": "invisible-witness",
   "metadata": {},
   "outputs": [
    {
     "data": {
      "text/plain": [
       "{'a': 10, 'b': 20, 'c': 30, 'd': 40, 'e': 50}"
      ]
     },
     "execution_count": 3,
     "metadata": {},
     "output_type": "execute_result"
    }
   ],
   "source": [
    "a"
   ]
  },
  {
   "cell_type": "code",
   "execution_count": 4,
   "id": "israeli-motion",
   "metadata": {},
   "outputs": [],
   "source": [
    "b = pd.Series(a)"
   ]
  },
  {
   "cell_type": "code",
   "execution_count": 5,
   "id": "elder-china",
   "metadata": {},
   "outputs": [
    {
     "data": {
      "text/plain": [
       "a    10\n",
       "b    20\n",
       "c    30\n",
       "d    40\n",
       "e    50\n",
       "dtype: int64"
      ]
     },
     "execution_count": 5,
     "metadata": {},
     "output_type": "execute_result"
    }
   ],
   "source": [
    "b"
   ]
  },
  {
   "cell_type": "code",
   "execution_count": 6,
   "id": "fuzzy-captain",
   "metadata": {},
   "outputs": [
    {
     "data": {
      "text/plain": [
       "pandas.core.series.Series"
      ]
     },
     "execution_count": 6,
     "metadata": {},
     "output_type": "execute_result"
    }
   ],
   "source": [
    "type(b)"
   ]
  },
  {
   "cell_type": "markdown",
   "id": "valid-anaheim",
   "metadata": {},
   "source": [
    "### Series 연산"
   ]
  },
  {
   "cell_type": "code",
   "execution_count": 7,
   "id": "efficient-handbook",
   "metadata": {},
   "outputs": [],
   "source": [
    "c = b / 10"
   ]
  },
  {
   "cell_type": "code",
   "execution_count": 8,
   "id": "cathedral-purple",
   "metadata": {},
   "outputs": [
    {
     "data": {
      "text/plain": [
       "a    1.0\n",
       "b    2.0\n",
       "c    3.0\n",
       "d    4.0\n",
       "e    5.0\n",
       "dtype: float64"
      ]
     },
     "execution_count": 8,
     "metadata": {},
     "output_type": "execute_result"
    }
   ],
   "source": [
    "c  # b 시리즈의 모든 값을 10으로 나누기"
   ]
  },
  {
   "cell_type": "code",
   "execution_count": 9,
   "id": "worse-florist",
   "metadata": {},
   "outputs": [],
   "source": [
    "c = b // 10"
   ]
  },
  {
   "cell_type": "code",
   "execution_count": 10,
   "id": "joined-professional",
   "metadata": {},
   "outputs": [
    {
     "data": {
      "text/plain": [
       "a    1\n",
       "b    2\n",
       "c    3\n",
       "d    4\n",
       "e    5\n",
       "dtype: int64"
      ]
     },
     "execution_count": 10,
     "metadata": {},
     "output_type": "execute_result"
    }
   ],
   "source": [
    "c  # 정수 나누기라 int로 저장된다."
   ]
  },
  {
   "cell_type": "code",
   "execution_count": 12,
   "id": "liable-somalia",
   "metadata": {},
   "outputs": [
    {
     "data": {
      "text/plain": [
       "pandas.core.series.Series"
      ]
     },
     "execution_count": 12,
     "metadata": {},
     "output_type": "execute_result"
    }
   ],
   "source": [
    "type(c)"
   ]
  },
  {
   "cell_type": "code",
   "execution_count": 13,
   "id": "ongoing-print",
   "metadata": {},
   "outputs": [],
   "source": [
    "d = b + c"
   ]
  },
  {
   "cell_type": "code",
   "execution_count": 14,
   "id": "infectious-trading",
   "metadata": {
    "scrolled": true
   },
   "outputs": [
    {
     "data": {
      "text/plain": [
       "a    11\n",
       "b    22\n",
       "c    33\n",
       "d    44\n",
       "e    55\n",
       "dtype: int64"
      ]
     },
     "execution_count": 14,
     "metadata": {},
     "output_type": "execute_result"
    }
   ],
   "source": [
    "d  # 동일 인덱스 값끼리 연산"
   ]
  },
  {
   "cell_type": "markdown",
   "id": "reliable-treaty",
   "metadata": {},
   "source": [
    "### 인덱스명이 일치해야만 연산이 가능한가? No"
   ]
  },
  {
   "cell_type": "code",
   "execution_count": 15,
   "id": "olympic-saskatchewan",
   "metadata": {},
   "outputs": [],
   "source": [
    "# 인덱스명이 일치해야만 연산이 가능한가? No\n",
    "\n",
    "e = {'a' : 10, 'c' : 20, 'e' : 30, 'g' :40}"
   ]
  },
  {
   "cell_type": "code",
   "execution_count": 16,
   "id": "regulation-crisis",
   "metadata": {},
   "outputs": [
    {
     "data": {
      "text/plain": [
       "{'a': 10, 'c': 20, 'e': 30, 'g': 40}"
      ]
     },
     "execution_count": 16,
     "metadata": {},
     "output_type": "execute_result"
    }
   ],
   "source": [
    "e"
   ]
  },
  {
   "cell_type": "code",
   "execution_count": 17,
   "id": "romance-agenda",
   "metadata": {},
   "outputs": [],
   "source": [
    "f = pd.Series(e)"
   ]
  },
  {
   "cell_type": "code",
   "execution_count": 18,
   "id": "valid-insulation",
   "metadata": {},
   "outputs": [
    {
     "data": {
      "text/plain": [
       "a    10\n",
       "c    20\n",
       "e    30\n",
       "g    40\n",
       "dtype: int64"
      ]
     },
     "execution_count": 18,
     "metadata": {},
     "output_type": "execute_result"
    }
   ],
   "source": [
    "f"
   ]
  },
  {
   "cell_type": "code",
   "execution_count": 19,
   "id": "latin-excess",
   "metadata": {},
   "outputs": [
    {
     "data": {
      "text/plain": [
       "a    21.0\n",
       "b     NaN\n",
       "c    53.0\n",
       "d     NaN\n",
       "e    85.0\n",
       "g     NaN\n",
       "dtype: float64"
      ]
     },
     "execution_count": 19,
     "metadata": {},
     "output_type": "execute_result"
    }
   ],
   "source": [
    "# 인덱스가 불일치하는 경우의 연산\n",
    "\n",
    "d + f  # 중복 인덱스 값 정상 연산, 비중복 인덱스 값 NaN"
   ]
  },
  {
   "cell_type": "code",
   "execution_count": 20,
   "id": "intense-pointer",
   "metadata": {},
   "outputs": [
    {
     "data": {
      "text/plain": [
       "a    21.0\n",
       "b    22.0\n",
       "c    53.0\n",
       "d    44.0\n",
       "e    85.0\n",
       "g    40.0\n",
       "dtype: float64"
      ]
     },
     "execution_count": 20,
     "metadata": {},
     "output_type": "execute_result"
    }
   ],
   "source": [
    "d.add(f, fill_value = 0)  # NaN을 0으로 채워서 덧셈 연산"
   ]
  },
  {
   "cell_type": "code",
   "execution_count": 21,
   "id": "brown-absence",
   "metadata": {},
   "outputs": [
    {
     "data": {
      "text/plain": [
       "a     1.0\n",
       "b    22.0\n",
       "c    13.0\n",
       "d    44.0\n",
       "e    25.0\n",
       "g   -40.0\n",
       "dtype: float64"
      ]
     },
     "execution_count": 21,
     "metadata": {},
     "output_type": "execute_result"
    }
   ],
   "source": [
    "d.sub(f, fill_value = 0)  # NaN을 0으로 채워서 뺼셈 연산"
   ]
  },
  {
   "cell_type": "code",
   "execution_count": 22,
   "id": "paperback-summer",
   "metadata": {},
   "outputs": [
    {
     "data": {
      "text/plain": [
       "a     110.0\n",
       "b       0.0\n",
       "c     660.0\n",
       "d       0.0\n",
       "e    1650.0\n",
       "g       0.0\n",
       "dtype: float64"
      ]
     },
     "execution_count": 22,
     "metadata": {},
     "output_type": "execute_result"
    }
   ],
   "source": [
    "d.mul(f, fill_value = 0)"
   ]
  },
  {
   "cell_type": "code",
   "execution_count": 23,
   "id": "large-malaysia",
   "metadata": {},
   "outputs": [
    {
     "data": {
      "text/plain": [
       "a     110.0\n",
       "b       NaN\n",
       "c     660.0\n",
       "d       NaN\n",
       "e    1650.0\n",
       "g       NaN\n",
       "dtype: float64"
      ]
     },
     "execution_count": 23,
     "metadata": {},
     "output_type": "execute_result"
    }
   ],
   "source": [
    "d * f"
   ]
  },
  {
   "cell_type": "code",
   "execution_count": 24,
   "id": "closing-spring",
   "metadata": {},
   "outputs": [
    {
     "data": {
      "text/plain": [
       "a     110.0\n",
       "b      22.0\n",
       "c     660.0\n",
       "d      44.0\n",
       "e    1650.0\n",
       "g      40.0\n",
       "dtype: float64"
      ]
     },
     "execution_count": 24,
     "metadata": {},
     "output_type": "execute_result"
    }
   ],
   "source": [
    "d.mul(f, fill_value = 1)  # 곱셈인 경우 NaN은 1로 설정해야 한다."
   ]
  },
  {
   "cell_type": "code",
   "execution_count": 25,
   "id": "resident-unemployment",
   "metadata": {},
   "outputs": [
    {
     "data": {
      "text/plain": [
       "a     1.100000\n",
       "b    22.000000\n",
       "c     1.650000\n",
       "d    44.000000\n",
       "e     1.833333\n",
       "g     0.025000\n",
       "dtype: float64"
      ]
     },
     "execution_count": 25,
     "metadata": {},
     "output_type": "execute_result"
    }
   ],
   "source": [
    "d.div(f, fill_value = 1)  # 나눗셈인 경우 NaN은 1로 설정해야 한다."
   ]
  }
 ],
 "metadata": {
  "kernelspec": {
   "display_name": "Python 3",
   "language": "python",
   "name": "python3"
  },
  "language_info": {
   "codemirror_mode": {
    "name": "ipython",
    "version": 3
   },
   "file_extension": ".py",
   "mimetype": "text/x-python",
   "name": "python",
   "nbconvert_exporter": "python",
   "pygments_lexer": "ipython3",
   "version": "3.8.5"
  }
 },
 "nbformat": 4,
 "nbformat_minor": 5
}
