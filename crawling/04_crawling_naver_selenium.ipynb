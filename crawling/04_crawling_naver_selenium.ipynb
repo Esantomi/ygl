{
 "cells": [
  {
   "cell_type": "code",
   "execution_count": 1,
   "metadata": {},
   "outputs": [
    {
     "name": "stdout",
     "output_type": "stream",
     "text": [
      "Collecting selenium\n",
      "  Downloading selenium-3.141.0-py2.py3-none-any.whl (904 kB)\n",
      "Requirement already satisfied: urllib3 in c:\\programdata\\anaconda3\\lib\\site-packages (from selenium) (1.25.11)\n",
      "Installing collected packages: selenium\n",
      "Successfully installed selenium-3.141.0\n"
     ]
    }
   ],
   "source": [
    "!pip install selenium  # !은 주피터 셀 명령어"
   ]
  },
  {
   "cell_type": "code",
   "execution_count": 16,
   "metadata": {},
   "outputs": [],
   "source": [
    "# Selenium 기본 코드 시작\n",
    "\n",
    "from selenium import webdriver\n",
    "\n",
    "driver = webdriver.Chrome(\"./crawling_practice/chromedriver\")\n",
    "# ipynb 파일과 chromedriver.exe 파일이 같은 폴더에 있으면 상대 경로(./)로 경로 설정 가능\n",
    "driver.get(\"https://naver.com\")\n",
    "\n",
    "# Selenium 기본 코드 끝"
   ]
  },
  {
   "cell_type": "code",
   "execution_count": 28,
   "metadata": {},
   "outputs": [],
   "source": [
    "# BeautifulSoup 기본 코드 시작\n",
    "\n",
    "from bs4 import BeautifulSoup\n",
    "\n",
    "# driver.page_source # 홈페이지 내용\n",
    "html = driver.page_source\n",
    "html_parsing = BeautifulSoup(html, \"lxml\")\n",
    "# print(html_parsing)\n",
    "\n",
    "# BeautifulSoup 기본 코드 끝"
   ]
  },
  {
   "cell_type": "code",
   "execution_count": 29,
   "metadata": {},
   "outputs": [
    {
     "name": "stdout",
     "output_type": "stream",
     "text": [
      "메일\n",
      "카페\n",
      "블로그\n",
      "지식iN\n",
      "쇼핑\n",
      "Pay\n",
      "TV\n"
     ]
    }
   ],
   "source": [
    "# 웹 페이지에서 내가 원하는 영역을 뽑아보자. (크롤링 시작)\n",
    "\n",
    "mailtoweb = html_parsing.select(\".group_nav > .list_nav.type_fix > li.nav_item > a\")\n",
    "# print(mailtoweb)\n",
    "\n",
    "for nav in mailtoweb:\n",
    "    print(nav.text.strip())\n",
    "\n",
    "# 웹 페이지에서 내가 원하는 영역을 뽑아보자. (크롤링 끝)"
   ]
  },
  {
   "cell_type": "code",
   "execution_count": null,
   "metadata": {},
   "outputs": [],
   "source": []
  }
 ],
 "metadata": {
  "kernelspec": {
   "display_name": "Python 3",
   "language": "python",
   "name": "python3"
  },
  "language_info": {
   "codemirror_mode": {
    "name": "ipython",
    "version": 3
   },
   "file_extension": ".py",
   "mimetype": "text/x-python",
   "name": "python",
   "nbconvert_exporter": "python",
   "pygments_lexer": "ipython3",
   "version": "3.8.5"
  }
 },
 "nbformat": 4,
 "nbformat_minor": 4
}
