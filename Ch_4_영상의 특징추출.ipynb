{
 "cells": [
  {
   "cell_type": "markdown",
   "id": "3fc3025b",
   "metadata": {},
   "source": [
    "# 영상의 특징 추출"
   ]
  },
  {
   "cell_type": "markdown",
   "id": "solved-producer",
   "metadata": {},
   "source": [
    "- edge는 pixel 값이 급격히 변화하는 지점이다.\n",
    "- 따라서 pixel을 미분하여 미분 값이 큰 부분을 edge로 검출하게 된다.\n",
    "- **Sobel**에서는 X 방향 edge 검출과 Y 방향 edge 검출을 위해 별도의 커널을 사용한다.\n",
    "  - Sobel x는 수직선 방향의 edge를 검출한다.\n",
    "![image](https://user-images.githubusercontent.com/61646760/124232128-38b02f00-db4c-11eb-9281-2a8208b534b2.png)\n",
    "  - Sobel y는 수평선 방향의 edge를 검출한다.\n",
    "![image](https://user-images.githubusercontent.com/61646760/124232157-42d22d80-db4c-11eb-85f4-21b5d9d1655a.png)"
   ]
  },
  {
   "cell_type": "code",
   "execution_count": null,
   "id": "ed1541dc",
   "metadata": {},
   "outputs": [],
   "source": [
    "# cv2.Sobel(src, ddepth, dx, dy, dst, ksize, scale, delta, borderType) -> dst\n",
    "\n",
    "# src : 입력영상\n",
    "# ddepth : 출력영상의 데이터 타입 (-1)\n",
    "# dx : x 방향 미분차수\n",
    "# dy : x 방향 미분차수\n",
    "# dst : 출력영상\n",
    "# ksize : 커널의 크기\n",
    "# scale : 연산결과에 추가적으로 곱할 값\n",
    "# delta : 연산결과에 추가적으로 더할 값\n",
    "# borderType : 가장자리 픽셀확장 방식"
   ]
  },
  {
   "cell_type": "code",
   "execution_count": 3,
   "id": "66447460",
   "metadata": {},
   "outputs": [],
   "source": [
    "import sys\n",
    "import numpy as np\n",
    "import cv2\n",
    "\n",
    "\n",
    "src = cv2.imread('lenna.bmp', cv2.IMREAD_GRAYSCALE)\n",
    "\n",
    "if src is None:\n",
    "    print('Image load failed!')\n",
    "    sys.exit()\n",
    "\n",
    "kernel = np.array([[-1, 0, 1], \n",
    "                   [-2, 0, 2], \n",
    "                   [-1, 0, 1]], dtype=np.float32)  # X 방향 edge 검출을 위한 커널\n",
    "\n",
    "# print(kernel)\n",
    "\n",
    "# [[-1.  0.  1.]\n",
    "#  [-2.  0.  2.]\n",
    "#  [-1.  0.  1.]]\n",
    "\n",
    "# dx = cv2.filter2D(src, -2, kernel, delta = 128)  # kernel을 직접 만들어 2D로 filtering\n",
    "\n",
    "# Sobel() : 3개의 pixel로 계산해서 값이 커지면 edge로 판단 (gradient)\n",
    "dx = cv2.Sobel(src, -1, 1, 0, delta=128)  # x 방향 미분 (1, 0)\n",
    "dy = cv2.Sobel(src, -1, 0, 1, delta=128)  # y 방향 미분 (0, 1)\n",
    "\n",
    "cv2.imshow('src', src)\n",
    "cv2.imshow('dx', dx)\n",
    "cv2.imshow('dy', dy)\n",
    "cv2.waitKey()\n",
    "\n",
    "cv2.destroyAllWindows()"
   ]
  },
  {
   "cell_type": "markdown",
   "id": "existing-cosmetic",
   "metadata": {},
   "source": [
    "![image](https://user-images.githubusercontent.com/61646760/124230538-174e4380-db4a-11eb-973e-f1223e4bf0fa.png)\n",
    "- dx는 좌측 기둥이 잡히는데, dy는 잡히지 않는다."
   ]
  },
  {
   "cell_type": "markdown",
   "id": "3d9862f9",
   "metadata": {},
   "source": [
    "## Sobel edge"
   ]
  },
  {
   "cell_type": "code",
   "execution_count": null,
   "id": "0c9545df",
   "metadata": {},
   "outputs": [],
   "source": [
    "# magnitude(x, y, magnitude) -> magnitude"
   ]
  },
  {
   "cell_type": "markdown",
   "id": "separate-roads",
   "metadata": {},
   "source": [
    "$$magnitude = \\sqrt{dx^2+dy^2}$$"
   ]
  },
  {
   "cell_type": "code",
   "execution_count": 5,
   "id": "14841d02",
   "metadata": {},
   "outputs": [],
   "source": [
    "# x, y를 모두 고려해서 edge 구하기\n",
    "import sys\n",
    "import numpy as np\n",
    "import cv2\n",
    "\n",
    "\n",
    "src = cv2.imread('lenna.bmp', cv2.IMREAD_GRAYSCALE)\n",
    "\n",
    "if src is None:\n",
    "    print('Image load failed!')\n",
    "    sys.exit()\n",
    "\n",
    "dx = cv2.Sobel(src, cv2.CV_32F, 1, 0)  # X 방향 1차 미분 값, type을 임의로 정해 둠(CV_32F)\n",
    "dy = cv2.Sobel(src, cv2.CV_32F, 0, 1)  # Y 방향 1차 미분 값\n",
    "\n",
    "mag = cv2.magnitude(dx, dy)                  # magnitude 구하기\n",
    "mag = np.clip(mag, 0, 255).astype(np.uint8)  # 범위 clipping (mag에 대해 0보다 작으면 0으로, 255보다 크면 255로 변경)\n",
    "\n",
    "dst = np.zeros(mag.shape[:2], np.uint8)  # 0으로 채우기\n",
    "dst[mag > 120] = 255                     # 120보다 크면 255(1)로 변경\n",
    "# _, dst = cv2.threshold(mag, 120, 255, cv2.THRESH_BINARY)\n",
    "\n",
    "cv2.imshow('src', src)\n",
    "cv2.imshow('mag', mag)\n",
    "cv2.imshow('dst', dst)\n",
    "cv2.waitKey()\n",
    "\n",
    "cv2.destroyAllWindows()"
   ]
  },
  {
   "cell_type": "markdown",
   "id": "structural-institute",
   "metadata": {},
   "source": [
    "![image](https://user-images.githubusercontent.com/61646760/124236194-21277500-db51-11eb-8844-c7111c2b64e7.png)"
   ]
  },
  {
   "cell_type": "markdown",
   "id": "a50d232c",
   "metadata": {},
   "source": [
    "## Canny edge 검출"
   ]
  },
  {
   "cell_type": "code",
   "execution_count": null,
   "id": "35905db9",
   "metadata": {},
   "outputs": [],
   "source": [
    "#Canny(image, threshold1, threshold2, edges, apertureSize, L2gradient) -> edges\n",
    "# image : 입력 영상\n",
    "# threshold1: 에지결정 하한값\n",
    "# threshold1: 에지결정 상한값\n",
    "# edges: None\n",
    "# apertureSize: 커널사이즈\n",
    "# L2gradient: gradient 크기 계산, False"
   ]
  },
  {
   "cell_type": "code",
   "execution_count": 6,
   "id": "dbd48144",
   "metadata": {},
   "outputs": [],
   "source": [
    "import sys\n",
    "import numpy as np\n",
    "import cv2\n",
    "\n",
    "\n",
    "src = cv2.imread('building.jpg', cv2.IMREAD_GRAYSCALE)\n",
    "\n",
    "if src is None:\n",
    "    print('Image load failed!')\n",
    "    sys.exit()\n",
    "\n",
    "dst = cv2.Canny(src, 50, 150)  # edge 결정 하한값 50, 상한값 150\n",
    "\n",
    "cv2.imshow('src', src)\n",
    "cv2.imshow('dst', dst)\n",
    "cv2.waitKey()\n",
    "\n",
    "cv2.destroyAllWindows()"
   ]
  },
  {
   "cell_type": "markdown",
   "id": "polish-retirement",
   "metadata": {},
   "source": [
    "![image](https://user-images.githubusercontent.com/61646760/124237847-f1796c80-db52-11eb-960b-e3a068ec93dd.png)"
   ]
  },
  {
   "cell_type": "markdown",
   "id": "ce33b80c",
   "metadata": {},
   "source": [
    "## 허프변환 : 직선검출"
   ]
  },
  {
   "cell_type": "code",
   "execution_count": null,
   "id": "1b41b162",
   "metadata": {},
   "outputs": [],
   "source": [
    "# HoughLinesP(image, rho, theta, threshold, lines, minLineLength, maxLineGap) -> lines\n",
    "# image: 입력 에지영상\n",
    "# rho: 축적배열에서 rho의 간격\n",
    "# theta: 축적배열에서 theta의 간격\n",
    "# threshold: 직선판단할 임계값\n",
    "# lines: 선분의 끝좌표 (x1, y1, x2, y2)\n",
    "# srn = None, stn = None\n",
    "# minLineLength: 검출한 선분의 최소 길이\n",
    "# maxLineGap: 직선으로 간주할 최대 에지 점 간격 (끝어진 점을 연결할 기준)"
   ]
  },
  {
   "cell_type": "code",
   "execution_count": 9,
   "id": "91434d76",
   "metadata": {},
   "outputs": [],
   "source": [
    "import sys\n",
    "import numpy as np\n",
    "import cv2\n",
    "\n",
    "\n",
    "src = cv2.imread('building.jpg', cv2.IMREAD_GRAYSCALE)\n",
    "\n",
    "if src is None:\n",
    "    print('Image load failed!')\n",
    "    sys.exit()\n",
    "\n",
    "edges = cv2.Canny(src, 50, 150)\n",
    "\n",
    "lines = cv2.HoughLinesP(edges, 1, np.pi / 180., 160,\n",
    "                        minLineLength=50, maxLineGap=5)\n",
    "\n",
    "dst = cv2.cvtColor(edges, cv2.COLOR_GRAY2BGR)\n",
    "\n",
    "if lines is not None:\n",
    "    for i in range(lines.shape[0]):\n",
    "        pt1 = (lines[i][0][0], lines[i][0][1])  # 시작점 좌표\n",
    "        pt2 = (lines[i][0][2], lines[i][0][3])  # 끝점 좌표\n",
    "        cv2.line(dst, pt1, pt2, (0, 0, 255), 2, cv2.LINE_AA)\n",
    "\n",
    "cv2.imshow('src', src)\n",
    "cv2.imshow('dst', dst)\n",
    "cv2.waitKey()\n",
    "cv2.destroyAllWindows()"
   ]
  },
  {
   "cell_type": "code",
   "execution_count": null,
   "id": "developed-ticket",
   "metadata": {},
   "outputs": [],
   "source": []
  }
 ],
 "metadata": {
  "kernelspec": {
   "display_name": "Python 3",
   "language": "python",
   "name": "python3"
  },
  "language_info": {
   "codemirror_mode": {
    "name": "ipython",
    "version": 3
   },
   "file_extension": ".py",
   "mimetype": "text/x-python",
   "name": "python",
   "nbconvert_exporter": "python",
   "pygments_lexer": "ipython3",
   "version": "3.8.10"
  }
 },
 "nbformat": 4,
 "nbformat_minor": 5
}
